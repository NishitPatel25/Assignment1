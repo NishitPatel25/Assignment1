{
 "cells": [
  {
   "cell_type": "code",
   "execution_count": null,
   "id": "6d1e11fb-984c-472f-baaa-f18b3b6bc5b9",
   "metadata": {},
   "outputs": [],
   "source": [
    "Q1. Create a function which will take a list as an argument and return the product of all the numbers\n",
    "after creating a flat list.\n",
    "Use the below-given list as an argument for your function.\n",
    "list1 = [1,2,3,4, [44,55,66, True], False, (34,56,78,89,34), {1,2,3,3,2,1}, {1:34, \"key2\": [55, 67, 78, 89], 4: (45,\n",
    "22, 61, 34)}, [56, 'data science'], 'Machine Learning']\n",
    "Note: you must extract numeric keys and values of the dictionary also."
   ]
  },
  {
   "cell_type": "code",
   "execution_count": 15,
   "id": "bb736967-4019-46b4-8477-59e2e4e46991",
   "metadata": {},
   "outputs": [],
   "source": [
    "def product(list1):\n",
    "    lst=[]\n",
    "    for i in list1:\n",
    "        if type(i) == list:\n",
    "            for j in i:\n",
    "                if type(j) == int:\n",
    "                    lst.append(j)\n",
    "        elif type(i) == tuple:\n",
    "            for k in i:\n",
    "                if type(k) == int:\n",
    "                    lst.append(k)\n",
    "        elif type(i) == set:\n",
    "            for m in i:\n",
    "                if type(m) == int:\n",
    "                    lst.append(m)\n",
    "        elif type(i) == dict:\n",
    "            for key,value in i.items():\n",
    "                if type(key) == int or type(value) == int:\n",
    "                    if type(value) == tuple:\n",
    "                        for n in value:\n",
    "                            if type(n) == int:\n",
    "                                lst.append(n)\n",
    "                        lst.append(key)\n",
    "                elif type(key) == str:\n",
    "                    if type(value) == list:\n",
    "                        for o in value:\n",
    "                            if type(o) == int:\n",
    "                                lst.append(o)\n",
    "                elif type(value) == int:\n",
    "                    lst.append(value)\n",
    "                elif type(key) == int:\n",
    "                    lst.append(key)\n",
    "        else:\n",
    "            if type(i) == int:\n",
    "                lst.append(i)\n",
    "    return lst"
   ]
  },
  {
   "cell_type": "code",
   "execution_count": 16,
   "id": "f4b8d99a-1310-4ceb-a4e5-5ce9698f6349",
   "metadata": {},
   "outputs": [
    {
     "data": {
      "text/plain": [
       "[1,\n",
       " 2,\n",
       " 3,\n",
       " 4,\n",
       " 44,\n",
       " 55,\n",
       " 66,\n",
       " 34,\n",
       " 56,\n",
       " 78,\n",
       " 89,\n",
       " 34,\n",
       " 1,\n",
       " 2,\n",
       " 3,\n",
       " 55,\n",
       " 67,\n",
       " 78,\n",
       " 89,\n",
       " 45,\n",
       " 22,\n",
       " 61,\n",
       " 34,\n",
       " 4,\n",
       " 56]"
      ]
     },
     "execution_count": 16,
     "metadata": {},
     "output_type": "execute_result"
    }
   ],
   "source": [
    "\n",
    "list1 = [1,2,3,4, [44,55,66, True], False, (34,56,78,89,34), {1,2,3,3,2,1}, {1:34, \"key2\": [55, 67, 78, 89], 4: (45, 22, 61, 34)}, [56, 'data science'], 'Machine Learning']\n",
    "product(list1)\n",
    "\n",
    "\n"
   ]
  },
  {
   "cell_type": "code",
   "execution_count": 13,
   "id": "2faa2439-485b-4e30-a844-b55398fd8924",
   "metadata": {},
   "outputs": [],
   "source": [
    "Q2 Write a python program for encrypting a message sent to you by your friend. The logic of encryption\n",
    "should be such that, for a the output should be z. For b, the output should be y. For c, the output should\n",
    "be x respectively. Also, the whitespace should be replaced with a dollar sign. Keep the punctuation\n",
    "marks unchanged.\n",
    "Input Sentence: I want to become a Data Scientist.\n",
    "Encrypt the above input sentence using the program you just created.\n",
    "Note: Convert the given input sentence into lowercase before encrypting. The final output should be\n",
    "lowercase."
   ]
  },
  {
   "cell_type": "code",
   "execution_count": 26,
   "id": "b58f37f5-d686-434c-ad5a-b9593707ca2a",
   "metadata": {},
   "outputs": [],
   "source": [
    "def encrypt_message(message):\n",
    "   \n",
    "    message = message.lower()\n",
    "   \n",
    "    mapping = {'a': 'z', 'b': 'y', 'c': 'x', 'd': 'w', 'e': 'v', 'f': 'u', 'g': 't', 'h': 's', 'i': 'r',\n",
    "               'j': 'q', 'k': 'p', 'l': 'o', 'm': 'n', 'n': 'm', 'o': 'l', 'p': 'k', 'q': 'j', 'r': 'i',\n",
    "               's': 'h', 't': 'g', 'u': 'f', 'v': 'e', 'w': 'd', 'x': 'c', 'y': 'b', 'z': 'a', ' ': '$'}\n",
    "    encrypted=' '.join(map(lambda c: mapping[c] if c in mapping else c,message))\n",
    "    return encrypted"
   ]
  },
  {
   "cell_type": "code",
   "execution_count": 25,
   "id": "1cd07864-48d0-4ff8-bf69-1bfe445754bb",
   "metadata": {},
   "outputs": [
    {
     "data": {
      "text/plain": [
       "'r$dzmg$gl$yvxlnv$z$wzgz$hxrvmgrhg'"
      ]
     },
     "execution_count": 25,
     "metadata": {},
     "output_type": "execute_result"
    }
   ],
   "source": [
    "message = \"I want to become a Data Scientist\"\n",
    "encrypt_message(message)\n"
   ]
  }
 ],
 "metadata": {
  "kernelspec": {
   "display_name": "Python 3 (ipykernel)",
   "language": "python",
   "name": "python3"
  },
  "language_info": {
   "codemirror_mode": {
    "name": "ipython",
    "version": 3
   },
   "file_extension": ".py",
   "mimetype": "text/x-python",
   "name": "python",
   "nbconvert_exporter": "python",
   "pygments_lexer": "ipython3",
   "version": "3.10.8"
  }
 },
 "nbformat": 4,
 "nbformat_minor": 5
}
