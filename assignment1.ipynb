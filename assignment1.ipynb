{
 "cells": [
  {
   "cell_type": "code",
   "execution_count": 2,
   "id": "9834cfa9-373e-4124-bcac-513daef3ec7c",
   "metadata": {},
   "outputs": [],
   "source": [
    "## 1) Explain with an example each when to use a for loop and a while loop.\n"
   ]
  },
  {
   "cell_type": "code",
   "execution_count": 3,
   "id": "97f957a2-802d-4c52-b417-a8e424211e4b",
   "metadata": {},
   "outputs": [],
   "source": [
    "## ans) we use for loop when we know the number of iterations \n",
    "## and when number of iteration is unknown, at that time we use while loop"
   ]
  },
  {
   "cell_type": "code",
   "execution_count": 6,
   "id": "0f0ff63c-3916-4b78-9d62-c2b9b854f613",
   "metadata": {},
   "outputs": [
    {
     "name": "stdout",
     "output_type": "stream",
     "text": [
      "1\n",
      "2\n",
      "3\n",
      "4\n",
      "5\n"
     ]
    }
   ],
   "source": [
    "## for loop example\n",
    "l=[1,2,3,4,5]\n",
    "for i in l:\n",
    "    print(i)"
   ]
  },
  {
   "cell_type": "code",
   "execution_count": 7,
   "id": "e6b36add-b987-45c4-9438-55481bf58c8b",
   "metadata": {},
   "outputs": [
    {
     "name": "stdout",
     "output_type": "stream",
     "text": [
      "1\n",
      "2\n",
      "3\n",
      "4\n",
      "5\n"
     ]
    }
   ],
   "source": [
    "## while loop example\n",
    "count = 1\n",
    "\n",
    "while count <= 5:\n",
    "    print(count)\n",
    "    count += 1\n"
   ]
  },
  {
   "cell_type": "code",
   "execution_count": 8,
   "id": "03d2b76b-3bdf-45c0-a9d5-62ee99fde42e",
   "metadata": {},
   "outputs": [],
   "source": [
    "## 2)  Write a python program to print the sum and product of the first 10 natural numbers using for and while loop."
   ]
  },
  {
   "cell_type": "code",
   "execution_count": 9,
   "id": "0a072066-69d0-4ce7-a28d-cb267ee5f298",
   "metadata": {},
   "outputs": [
    {
     "name": "stdout",
     "output_type": "stream",
     "text": [
      "Sum of first 10 natural numbers: 55\n",
      "Product of first 10 natural numbers: 3628800\n"
     ]
    }
   ],
   "source": [
    "## using for loop\n",
    "#sum\n",
    "sum = 0\n",
    "for i in range(1, 11):\n",
    "    sum = sum + i\n",
    "\n",
    "#product\n",
    "product = 1\n",
    "for i in range(1, 11):\n",
    "    product = product * i\n",
    "\n",
    "print(\"Sum of first 10 natural numbers:\", sum)\n",
    "print(\"Product of first 10 natural numbers:\", product)"
   ]
  },
  {
   "cell_type": "code",
   "execution_count": 12,
   "id": "0a514f26-fd8f-4ab9-bd81-537f93b82aa4",
   "metadata": {},
   "outputs": [
    {
     "name": "stdout",
     "output_type": "stream",
     "text": [
      "Sum of first 10 natural numbers: 55\n",
      "Product of first 10 natural numbers: 3628800\n"
     ]
    }
   ],
   "source": [
    "## using while loop\n",
    "#sum\n",
    "sum = 0\n",
    "i = 1\n",
    "while i <= 10:\n",
    "    sum = sum + i\n",
    "    i = i + 1\n",
    "\n",
    "# product\n",
    "product = 1\n",
    "i = 1\n",
    "while i <= 10:\n",
    "    product = product * i\n",
    "    i = i + 1\n",
    "\n",
    "print(\"Sum of first 10 natural numbers:\", sum)\n",
    "print(\"Product of first 10 natural numbers:\", product)"
   ]
  },
  {
   "cell_type": "code",
   "execution_count": null,
   "id": "7eccdd3d-dc69-4b38-a196-2c1a24a62336",
   "metadata": {},
   "outputs": [],
   "source": [
    "## 3) Create a python program to compute the electricity bill for a household the per-unit charges in rupees are as follows: For the first 100 units, the user will be charged Rs. 4.5 per \n",
    "## unit, for the next 100 units, the user will be charged Rs. 6 per unit, and for the next 100 units, the user will \n",
    "## be charged Rs. 10 per unit, After 300 units and above the user will be charged Rs. 20 per unit.\n",
    "\n",
    "## You are required to take the units of electricity consumed in a month from the user as input"
   ]
  },
  {
   "cell_type": "code",
   "execution_count": 16,
   "id": "37f7942f-63f7-4eaf-a678-0fb450a8baf0",
   "metadata": {},
   "outputs": [
    {
     "name": "stdin",
     "output_type": "stream",
     "text": [
      "Enter units of electricity consumed in a month:  310\n"
     ]
    },
    {
     "name": "stdout",
     "output_type": "stream",
     "text": [
      "Electricity Bill for the month: Rs. 2250.0\n"
     ]
    }
   ],
   "source": [
    "units = int(input(\"Enter units of electricity consumed in a month: \"))\n",
    "\n",
    "if units <= 100:\n",
    "    bill = units * 4.5\n",
    "elif units <= 200:\n",
    "    bill = 100 * 4.5 + (units - 100) * 6\n",
    "elif units <= 300:\n",
    "    bill = 100 * 4.5 + 100 * 6 + (units - 200) * 10\n",
    "else:\n",
    "    bill = 100 * 4.5 + 100 * 6 + 100 * 10 + (units - 300) * 20\n",
    "\n",
    "print(\"Electricity Bill for the month: Rs.\", bill)"
   ]
  },
  {
   "cell_type": "code",
   "execution_count": 17,
   "id": "8d3e4569-372d-41c9-af50-a6c750b27a8d",
   "metadata": {},
   "outputs": [],
   "source": [
    "## 4)\n",
    "##Create a list of numbers from 1 to 100. Use for loop and while loop to calculate the cube of each \n",
    "##number and if the cube of that number is divisible by 4 or 5 then append that number in a list and print \n",
    "##that list."
   ]
  },
  {
   "cell_type": "code",
   "execution_count": 27,
   "id": "c3513084-7d34-4708-bfb3-7acdc9506318",
   "metadata": {},
   "outputs": [
    {
     "name": "stdout",
     "output_type": "stream",
     "text": [
      "[2, 4, 5, 6, 8, 10, 12, 14, 15, 16, 18, 20, 22, 24, 25, 26, 28, 30, 32, 34, 35, 36, 38, 40, 42, 44, 45, 46, 48, 50, 52, 54, 55, 56, 58, 60, 62, 64, 65, 66, 68, 70, 72, 74, 75, 76, 78, 80, 82, 84, 85, 86, 88, 90, 92, 94, 95, 96, 98, 100]\n"
     ]
    }
   ],
   "source": [
    "l1=[]\n",
    "for i in range(1,101):\n",
    "    if (i*i*i) % 4 == 0 or (i*i*i) % 5 == 0 :\n",
    "        l1.append(i)\n",
    "        \n",
    "print(l1)"
   ]
  },
  {
   "cell_type": "code",
   "execution_count": 22,
   "id": "b63bc3cf-1856-4931-b01b-cee68d203740",
   "metadata": {},
   "outputs": [
    {
     "data": {
      "text/plain": [
       "list[[2, 4, 5, 6, 8, 10, 12, 14, 15, 16, 18, 20, 22, 24, 25, 26, 28, 30, 32, 34, 35, 36, 38, 40, 42, 44, 45, 46, 48, 50, 52, 54, 55, 56, 58, 60, 62, 64, 65, 66, 68, 70, 72, 74, 75, 76, 78, 80, 82, 84, 85, 86, 88, 90, 92, 94, 95, 96, 98, 100]]"
      ]
     },
     "execution_count": 22,
     "metadata": {},
     "output_type": "execute_result"
    }
   ],
   "source": [
    "list[l1]"
   ]
  },
  {
   "cell_type": "code",
   "execution_count": 28,
   "id": "1845990d-ef98-4855-8eff-8637c8c85fcd",
   "metadata": {},
   "outputs": [
    {
     "name": "stdout",
     "output_type": "stream",
     "text": [
      "[2, 4, 5, 6, 8, 10, 12, 14, 15, 16, 18, 20, 22, 24, 25, 26, 28, 30, 32, 34, 35, 36, 38, 40, 42, 44, 45, 46, 48, 50, 52, 54, 55, 56, 58, 60, 62, 64, 65, 66, 68, 70, 72, 74, 75, 76, 78, 80, 82, 84, 85, 86, 88, 90, 92, 94, 95, 96, 98, 100]\n"
     ]
    }
   ],
   "source": [
    "l1 = []\n",
    "i = 1\n",
    "while i <= 100:\n",
    "    if (i*i*i) % 4 == 0 or (i*i*i) % 5 == 0:\n",
    "        l1.append(i)\n",
    "    i += 1\n",
    "\n",
    "print(l1)"
   ]
  },
  {
   "cell_type": "code",
   "execution_count": null,
   "id": "34f84972-da1c-4914-a6e7-77201a97ada9",
   "metadata": {},
   "outputs": [],
   "source": []
  },
  {
   "cell_type": "code",
   "execution_count": 29,
   "id": "fb7ad013-f4ee-4240-a599-fc5193508090",
   "metadata": {},
   "outputs": [
    {
     "name": "stdout",
     "output_type": "stream",
     "text": [
      "The number of vowels in the string is: 11\n"
     ]
    }
   ],
   "source": [
    "string = \"I want to become a data scientist\"\n",
    "\n",
    "count = 0\n",
    "\n",
    "vowels = {'a', 'e', 'i', 'o', 'u'}\n",
    "\n",
    "for i in string:\n",
    "   \n",
    "    if i in vowels:\n",
    "        count += 1\n",
    "\n",
    "print(\"The number of vowels in the string is:\", count)\n"
   ]
  },
  {
   "cell_type": "code",
   "execution_count": null,
   "id": "e0f8beac-fb68-489b-a9ee-e6938663db29",
   "metadata": {},
   "outputs": [],
   "source": []
  }
 ],
 "metadata": {
  "kernelspec": {
   "display_name": "Python 3 (ipykernel)",
   "language": "python",
   "name": "python3"
  },
  "language_info": {
   "codemirror_mode": {
    "name": "ipython",
    "version": 3
   },
   "file_extension": ".py",
   "mimetype": "text/x-python",
   "name": "python",
   "nbconvert_exporter": "python",
   "pygments_lexer": "ipython3",
   "version": "3.10.8"
  }
 },
 "nbformat": 4,
 "nbformat_minor": 5
}
