{
 "cells": [
  {
   "cell_type": "code",
   "execution_count": null,
   "id": "ce1f59a4-4cd2-4422-af24-922be4505a54",
   "metadata": {},
   "outputs": [],
   "source": [
    "1)What is Abstraction in OOps? Explain with an example."
   ]
  },
  {
   "cell_type": "code",
   "execution_count": null,
   "id": "bffc05d3-75ad-4777-8cfc-6745ccd5be31",
   "metadata": {},
   "outputs": [],
   "source": [
    "Abstraction is a fundamental concept in object-oriented programming that refers to the process of simplifying complex systems by \n",
    "focusing only on the essential features and ignoring the non-essential ones. It is achieved by creating abstract classes or interfaces \n",
    "that define a set of methods or properties that are required to implement a specific functionality, without specifying the implementation details.\n",
    "\n",
    "For example, lets consider a car. A car has several complex components, such as the engine, transmission, suspension, steering system, \n",
    "and more. Each of these components is composed of numerous sub-components, which can be further broken down into individual parts and \n",
    "mechanisms. However, from the perspective of a driver or passenger, these details are not important. Instead, they interact with the car \n",
    "through a simplified interface, which consists of a steering wheel, pedals, gauges, and a few other controls."
   ]
  },
  {
   "cell_type": "code",
   "execution_count": null,
   "id": "283a798c-ab92-45d7-b505-d18e8966dcb8",
   "metadata": {},
   "outputs": [],
   "source": [
    "Q2. Differentiate between Abstraction and Encapsulation. Explain with an example."
   ]
  },
  {
   "cell_type": "code",
   "execution_count": null,
   "id": "1fe8e8dc-4c99-47b5-9613-cf7e11711386",
   "metadata": {},
   "outputs": [],
   "source": [
    "Abstraction and encapsulation are two important concepts in object-oriented programming, but they serve different purposes. \n",
    "Abstraction is the process of simplifying complex systems by focusing only on the essential features, while encapsulation is the process \n",
    "of hiding the internal details of a system from external access.\n",
    "\n",
    "Abstraction:\n",
    "\n",
    "Abstraction is the process of hiding the unnecessary details of a system and focusing only on the essential features. It is achieved by \n",
    "efining abstract classes or interfaces that provide a simplified and standardized interface for interacting with complex systems.\n",
    "Abstraction is used to manage complexity and improve the usability of a system by providing a simplified interface that hides the \n",
    "underlying implementation details.\n",
    "\n",
    "For example, consider a car. From a drivers perspective, a car is a simple machine that can be controlled using a few basic\n",
    "features such as a steering wheel, pedals, and gears. The internal workings of the engine, transmission, and other components are hidden \n",
    "from the driver and are not important for operating the car. In this case, the driver is interacting with a simplified abstraction of the car, \n",
    "which provides a standardized interface for controlling its essential features.\n",
    "\n",
    "Encapsulation:\n",
    "\n",
    "Encapsulation is the process of hiding the internal details of a system from external access. It is achieved by defining private \n",
    "and public access levels for the properties and methods of a class. Encapsulation is used to protect the internal state of an\n",
    "object from unauthorized access, ensuring that the object remains in a consistent and valid state.\n",
    "\n",
    "For example, consider a bank account. A bank account has several properties, such as the account holders name, account number,\n",
    "and balance. These properties should not be accessible to anyone except the account holder or authorized bank employees. \n",
    "To achieve this, we can define private access levels for the properties and methods of the bank account class, ensuring that they\n",
    "can only be accessed by authorized parties. This encapsulation protects the internal state of the bank account from unauthorized access, \n",
    "ensuring that it remains in a consistent and valid state.\n"
   ]
  },
  {
   "cell_type": "code",
   "execution_count": null,
   "id": "8498a699-7dde-4c20-95ef-b0de3858aa62",
   "metadata": {},
   "outputs": [],
   "source": [
    "Q3. What is abc module in python? Why is it used?"
   ]
  },
  {
   "cell_type": "code",
   "execution_count": null,
   "id": "479bc2a6-556d-41c9-8510-9a70202f41cb",
   "metadata": {},
   "outputs": [],
   "source": [
    "The \"abc\" module in Python stands for \"Abstract Base Classes\". It is a module that provides a way to define abstract classes in Python. \n",
    "Abstract classes are classes that cannot be instantiated and are only meant to be used as a base class for other classes. They define a \n",
    "set of methods or properties that subclasses are required to implement, but do not provide any implementation details themselves.\n",
    "\n",
    "For example, lets say we want to define a set of classes for working with geometric shapes. We could define an abstract base class called \"Shape\"\n",
    "that defines a set of methods such as \"area\" and \"perimeter\". All subclasses of the \"Shape\" class would be required to implement these methods,\n",
    "ensuring that they all have a consistent interface for calculating the area and perimeter of a shape.\n",
    "\n",
    "import abc\n",
    "class Shape(ABC):\n",
    "    @abc.abstractmethod\n",
    "    def area(self):\n",
    "        pass\n",
    "\n",
    "    @abc.abstractmethod\n",
    "    def perimeter(self):\n",
    "        pass"
   ]
  },
  {
   "cell_type": "code",
   "execution_count": null,
   "id": "f63c78ad-5507-4d5c-ac15-f3764e517a61",
   "metadata": {},
   "outputs": [],
   "source": [
    "Q4. How can we achieve data abstraction?"
   ]
  },
  {
   "cell_type": "code",
   "execution_count": null,
   "id": "68edeb34-69ae-4c7e-a15d-a55ae6a3a792",
   "metadata": {},
   "outputs": [],
   "source": [
    "Data Abstraction in Python can be achieved through creating abstract classes and inheriting them later\n",
    "\n",
    "Abstract Class: The classes that cannot be instantiated. This means that we cannot create objects of an abstract class and these are \n",
    "only meant to be inherited. Then an object of the derived class is used to access the features of the base class. These are specifically \n",
    "defined to lay a foundation of other classes that exhibit common behavior or characteristics."
   ]
  },
  {
   "cell_type": "code",
   "execution_count": null,
   "id": "23f19003-8f35-4d77-abcc-50cd04b3d56d",
   "metadata": {},
   "outputs": [],
   "source": [
    "Q5. Can we create an instance of an abstract class? Explain your answer."
   ]
  },
  {
   "cell_type": "code",
   "execution_count": null,
   "id": "4962d870-eed9-49f7-9732-5562bb931d66",
   "metadata": {},
   "outputs": [],
   "source": [
    "No, we cannot create an instance of an abstract class in Python. An abstract class is a class that contains one or more abstract methods, \n",
    "which are methods that are declared but do not have any implementation. Since abstract methods have no implementation, it doesnt make sense \n",
    "to create an instance of an abstract class, because we would not be able to use its methods."
   ]
  },
  {
   "cell_type": "code",
   "execution_count": null,
   "id": "d016f078-88cd-4282-8785-4e379d55f439",
   "metadata": {},
   "outputs": [],
   "source": []
  },
  {
   "cell_type": "code",
   "execution_count": null,
   "id": "bbf3fae2-3f15-4ce0-9aae-d02e0a1a8f63",
   "metadata": {},
   "outputs": [],
   "source": []
  }
 ],
 "metadata": {
  "kernelspec": {
   "display_name": "Python 3 (ipykernel)",
   "language": "python",
   "name": "python3"
  },
  "language_info": {
   "codemirror_mode": {
    "name": "ipython",
    "version": 3
   },
   "file_extension": ".py",
   "mimetype": "text/x-python",
   "name": "python",
   "nbconvert_exporter": "python",
   "pygments_lexer": "ipython3",
   "version": "3.10.8"
  }
 },
 "nbformat": 4,
 "nbformat_minor": 5
}
