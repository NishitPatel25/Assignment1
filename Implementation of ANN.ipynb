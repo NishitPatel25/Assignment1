{
 "cells": [
  {
   "cell_type": "code",
   "execution_count": 1,
   "id": "4681039f",
   "metadata": {},
   "outputs": [
    {
     "name": "stdout",
     "output_type": "stream",
     "text": [
      "TensorFlow version: 2.13.0\n"
     ]
    }
   ],
   "source": [
    "import tensorflow as tf\n",
    "from tensorflow import keras\n",
    "\n",
    "# Print TensorFlow version\n",
    "print(f\"TensorFlow version: {tf.__version__}\")"
   ]
  },
  {
   "cell_type": "code",
   "execution_count": 2,
   "id": "8c95594f",
   "metadata": {},
   "outputs": [
    {
     "name": "stdout",
     "output_type": "stream",
     "text": [
      "Dataset dimensions: (1599, 12)\n",
      "   fixed acidity  volatile acidity  citric acid  residual sugar  chlorides  \\\n",
      "0            7.4              0.70         0.00             1.9      0.076   \n",
      "1            7.8              0.88         0.00             2.6      0.098   \n",
      "2            7.8              0.76         0.04             2.3      0.092   \n",
      "3           11.2              0.28         0.56             1.9      0.075   \n",
      "4            7.4              0.70         0.00             1.9      0.076   \n",
      "\n",
      "   free sulfur dioxide  total sulfur dioxide  density    pH  sulphates  \\\n",
      "0                 11.0                  34.0   0.9978  3.51       0.56   \n",
      "1                 25.0                  67.0   0.9968  3.20       0.68   \n",
      "2                 15.0                  54.0   0.9970  3.26       0.65   \n",
      "3                 17.0                  60.0   0.9980  3.16       0.58   \n",
      "4                 11.0                  34.0   0.9978  3.51       0.56   \n",
      "\n",
      "   alcohol quality  \n",
      "0      9.4     bad  \n",
      "1      9.8     bad  \n",
      "2      9.8     bad  \n",
      "3      9.8    good  \n",
      "4      9.4     bad  \n"
     ]
    }
   ],
   "source": [
    "import pandas as pd\n",
    "\n",
    "# Load the Wine Quality dataset\n",
    "\n",
    "wine_data = pd.read_csv(\"wine.csv\")\n",
    "\n",
    "# Explore dimensions\n",
    "print(f\"Dataset dimensions: {wine_data.shape}\")\n",
    "print(wine_data.head())\n"
   ]
  },
  {
   "cell_type": "code",
   "execution_count": 3,
   "id": "f55be51e",
   "metadata": {},
   "outputs": [
    {
     "name": "stdout",
     "output_type": "stream",
     "text": [
      "fixed acidity           0\n",
      "volatile acidity        0\n",
      "citric acid             0\n",
      "residual sugar          0\n",
      "chlorides               0\n",
      "free sulfur dioxide     0\n",
      "total sulfur dioxide    0\n",
      "density                 0\n",
      "pH                      0\n",
      "sulphates               0\n",
      "alcohol                 0\n",
      "quality                 0\n",
      "dtype: int64\n",
      "   fixed acidity  volatile acidity  citric acid  residual sugar  chlorides  \\\n",
      "0            7.4              0.70         0.00             1.9      0.076   \n",
      "1            7.8              0.88         0.00             2.6      0.098   \n",
      "2            7.8              0.76         0.04             2.3      0.092   \n",
      "3           11.2              0.28         0.56             1.9      0.075   \n",
      "4            7.4              0.70         0.00             1.9      0.076   \n",
      "\n",
      "   free sulfur dioxide  total sulfur dioxide  density    pH  sulphates  \\\n",
      "0                 11.0                  34.0   0.9978  3.51       0.56   \n",
      "1                 25.0                  67.0   0.9968  3.20       0.68   \n",
      "2                 15.0                  54.0   0.9970  3.26       0.65   \n",
      "3                 17.0                  60.0   0.9980  3.16       0.58   \n",
      "4                 11.0                  34.0   0.9978  3.51       0.56   \n",
      "\n",
      "   alcohol  quality_bad  quality_good  \n",
      "0      9.4            1             0  \n",
      "1      9.8            1             0  \n",
      "2      9.8            1             0  \n",
      "3      9.8            0             1  \n",
      "4      9.4            1             0  \n"
     ]
    }
   ],
   "source": [
    "# Check for null values\n",
    "print(wine_data.isnull().sum())\n",
    "\n",
    "# Identify categorical variables (assuming 'quality' is categorical)\n",
    "categorical_vars = ['quality']\n",
    "\n",
    "# Encode categorical variables\n",
    "wine_data_encoded = pd.get_dummies(wine_data, columns=categorical_vars)\n",
    "\n",
    "print(wine_data_encoded.head())\n"
   ]
  },
  {
   "cell_type": "code",
   "execution_count": 6,
   "id": "5bbd4d6c",
   "metadata": {},
   "outputs": [
    {
     "name": "stdout",
     "output_type": "stream",
     "text": [
      "Features shape: (1599, 12)\n",
      "Target shape: (1599,)\n"
     ]
    }
   ],
   "source": [
    "# Separate features and target variable\n",
    "X = wine_data_encoded.drop(columns=['quality_good'])\n",
    "y = wine_data_encoded['quality_good']\n",
    "\n",
    "print(\"Features shape:\", X.shape)\n",
    "print(\"Target shape:\", y.shape)\n"
   ]
  },
  {
   "cell_type": "code",
   "execution_count": 7,
   "id": "aed5fecf",
   "metadata": {},
   "outputs": [
    {
     "name": "stdout",
     "output_type": "stream",
     "text": [
      "Train set: (1279, 12) (1279,)\n",
      "Validation set: (160, 12) (160,)\n",
      "Test set: (160, 12) (160,)\n"
     ]
    }
   ],
   "source": [
    "from sklearn.model_selection import train_test_split\n",
    "\n",
    "# Split data into train, validation, and test sets\n",
    "X_train, X_temp, y_train, y_temp = train_test_split(X, y, test_size=0.2, random_state=42)\n",
    "X_val, X_test, y_val, y_test = train_test_split(X_temp, y_temp, test_size=0.5, random_state=42)\n",
    "\n",
    "print(\"Train set:\", X_train.shape, y_train.shape)\n",
    "print(\"Validation set:\", X_val.shape, y_val.shape)\n",
    "print(\"Test set:\", X_test.shape, y_test.shape)\n"
   ]
  },
  {
   "cell_type": "code",
   "execution_count": 8,
   "id": "5988c215",
   "metadata": {},
   "outputs": [],
   "source": [
    "from sklearn.preprocessing import StandardScaler\n",
    "\n",
    "# Initialize StandardScaler\n",
    "scaler = StandardScaler()\n",
    "\n",
    "# Fit and transform on training data\n",
    "X_train_scaled = scaler.fit_transform(X_train)\n",
    "X_val_scaled = scaler.transform(X_val)\n",
    "X_test_scaled = scaler.transform(X_test)\n"
   ]
  },
  {
   "cell_type": "code",
   "execution_count": 9,
   "id": "e90c9cf0",
   "metadata": {},
   "outputs": [],
   "source": [
    "# Import necessary layers from Keras\n",
    "from keras.models import Sequential\n",
    "from keras.layers import Dense\n",
    "\n",
    "# Define model architecture\n",
    "model = Sequential()\n",
    "model.add(Dense(128, activation='relu', input_shape=(X_train_scaled.shape[1],)))\n",
    "model.add(Dense(64, activation='relu'))\n",
    "model.add(Dense(1, activation='sigmoid'))  # Binary output layer\n"
   ]
  },
  {
   "cell_type": "code",
   "execution_count": 10,
   "id": "1217fe8e",
   "metadata": {},
   "outputs": [
    {
     "name": "stdout",
     "output_type": "stream",
     "text": [
      "Model: \"sequential\"\n",
      "_________________________________________________________________\n",
      " Layer (type)                Output Shape              Param #   \n",
      "=================================================================\n",
      " dense (Dense)               (None, 128)               1664      \n",
      "                                                                 \n",
      " dense_1 (Dense)             (None, 64)                8256      \n",
      "                                                                 \n",
      " dense_2 (Dense)             (None, 1)                 65        \n",
      "                                                                 \n",
      "=================================================================\n",
      "Total params: 9985 (39.00 KB)\n",
      "Trainable params: 9985 (39.00 KB)\n",
      "Non-trainable params: 0 (0.00 Byte)\n",
      "_________________________________________________________________\n"
     ]
    }
   ],
   "source": [
    "model.summary()\n"
   ]
  },
  {
   "cell_type": "code",
   "execution_count": 11,
   "id": "4d3d6ef0",
   "metadata": {},
   "outputs": [],
   "source": [
    "# Compile the model\n",
    "model.compile(optimizer='adam', loss='binary_crossentropy', metrics=['accuracy'])\n"
   ]
  },
  {
   "cell_type": "code",
   "execution_count": 12,
   "id": "c3fcf865",
   "metadata": {},
   "outputs": [],
   "source": [
    "# Compile the model\n",
    "model.compile(optimizer='adam', loss='binary_crossentropy', metrics=['accuracy'])"
   ]
  },
  {
   "cell_type": "code",
   "execution_count": 13,
   "id": "8e5b9d66",
   "metadata": {},
   "outputs": [
    {
     "name": "stdout",
     "output_type": "stream",
     "text": [
      "Epoch 1/50\n",
      "40/40 [==============================] - 1s 9ms/step - loss: 0.3918 - accuracy: 0.8960 - val_loss: 0.1748 - val_accuracy: 0.9812\n",
      "Epoch 2/50\n",
      "40/40 [==============================] - 0s 3ms/step - loss: 0.0727 - accuracy: 0.9961 - val_loss: 0.0266 - val_accuracy: 1.0000\n",
      "Epoch 3/50\n",
      "40/40 [==============================] - 0s 3ms/step - loss: 0.0134 - accuracy: 1.0000 - val_loss: 0.0079 - val_accuracy: 1.0000\n",
      "Epoch 4/50\n",
      "40/40 [==============================] - 0s 3ms/step - loss: 0.0051 - accuracy: 1.0000 - val_loss: 0.0039 - val_accuracy: 1.0000\n",
      "Epoch 5/50\n",
      "40/40 [==============================] - 0s 3ms/step - loss: 0.0027 - accuracy: 1.0000 - val_loss: 0.0024 - val_accuracy: 1.0000\n",
      "Epoch 6/50\n",
      "40/40 [==============================] - 0s 3ms/step - loss: 0.0017 - accuracy: 1.0000 - val_loss: 0.0016 - val_accuracy: 1.0000\n",
      "Epoch 7/50\n",
      "40/40 [==============================] - 0s 3ms/step - loss: 0.0012 - accuracy: 1.0000 - val_loss: 0.0011 - val_accuracy: 1.0000\n",
      "Epoch 8/50\n",
      "40/40 [==============================] - 0s 3ms/step - loss: 8.8692e-04 - accuracy: 1.0000 - val_loss: 8.5792e-04 - val_accuracy: 1.0000\n",
      "Epoch 9/50\n",
      "40/40 [==============================] - 0s 3ms/step - loss: 6.7969e-04 - accuracy: 1.0000 - val_loss: 6.6980e-04 - val_accuracy: 1.0000\n",
      "Epoch 10/50\n",
      "40/40 [==============================] - 0s 3ms/step - loss: 5.3914e-04 - accuracy: 1.0000 - val_loss: 5.3573e-04 - val_accuracy: 1.0000\n",
      "Epoch 11/50\n",
      "40/40 [==============================] - 0s 3ms/step - loss: 4.3764e-04 - accuracy: 1.0000 - val_loss: 4.4089e-04 - val_accuracy: 1.0000\n",
      "Epoch 12/50\n",
      "40/40 [==============================] - 0s 3ms/step - loss: 3.6277e-04 - accuracy: 1.0000 - val_loss: 3.6924e-04 - val_accuracy: 1.0000\n",
      "Epoch 13/50\n",
      "40/40 [==============================] - 0s 3ms/step - loss: 3.0556e-04 - accuracy: 1.0000 - val_loss: 3.1400e-04 - val_accuracy: 1.0000\n",
      "Epoch 14/50\n",
      "40/40 [==============================] - 0s 3ms/step - loss: 2.6075e-04 - accuracy: 1.0000 - val_loss: 2.6896e-04 - val_accuracy: 1.0000\n",
      "Epoch 15/50\n",
      "40/40 [==============================] - 0s 3ms/step - loss: 2.2543e-04 - accuracy: 1.0000 - val_loss: 2.3392e-04 - val_accuracy: 1.0000\n",
      "Epoch 16/50\n",
      "40/40 [==============================] - 0s 3ms/step - loss: 1.9655e-04 - accuracy: 1.0000 - val_loss: 2.0471e-04 - val_accuracy: 1.0000\n",
      "Epoch 17/50\n",
      "40/40 [==============================] - 0s 4ms/step - loss: 1.7298e-04 - accuracy: 1.0000 - val_loss: 1.8062e-04 - val_accuracy: 1.0000\n",
      "Epoch 18/50\n",
      "40/40 [==============================] - 0s 3ms/step - loss: 1.5326e-04 - accuracy: 1.0000 - val_loss: 1.6082e-04 - val_accuracy: 1.0000\n",
      "Epoch 19/50\n",
      "40/40 [==============================] - 0s 3ms/step - loss: 1.3681e-04 - accuracy: 1.0000 - val_loss: 1.4405e-04 - val_accuracy: 1.0000\n",
      "Epoch 20/50\n",
      "40/40 [==============================] - 0s 3ms/step - loss: 1.2275e-04 - accuracy: 1.0000 - val_loss: 1.2963e-04 - val_accuracy: 1.0000\n",
      "Epoch 21/50\n",
      "40/40 [==============================] - 0s 3ms/step - loss: 1.1086e-04 - accuracy: 1.0000 - val_loss: 1.1723e-04 - val_accuracy: 1.0000\n",
      "Epoch 22/50\n",
      "40/40 [==============================] - 0s 4ms/step - loss: 1.0053e-04 - accuracy: 1.0000 - val_loss: 1.0682e-04 - val_accuracy: 1.0000\n",
      "Epoch 23/50\n",
      "40/40 [==============================] - 0s 3ms/step - loss: 9.1521e-05 - accuracy: 1.0000 - val_loss: 9.7357e-05 - val_accuracy: 1.0000\n",
      "Epoch 24/50\n",
      "40/40 [==============================] - 0s 4ms/step - loss: 8.3728e-05 - accuracy: 1.0000 - val_loss: 8.9071e-05 - val_accuracy: 1.0000\n",
      "Epoch 25/50\n",
      "40/40 [==============================] - 0s 4ms/step - loss: 7.6750e-05 - accuracy: 1.0000 - val_loss: 8.1986e-05 - val_accuracy: 1.0000\n",
      "Epoch 26/50\n",
      "40/40 [==============================] - 0s 4ms/step - loss: 7.0685e-05 - accuracy: 1.0000 - val_loss: 7.5472e-05 - val_accuracy: 1.0000\n",
      "Epoch 27/50\n",
      "40/40 [==============================] - 0s 4ms/step - loss: 6.5223e-05 - accuracy: 1.0000 - val_loss: 6.9903e-05 - val_accuracy: 1.0000\n",
      "Epoch 28/50\n",
      "40/40 [==============================] - 0s 4ms/step - loss: 6.0388e-05 - accuracy: 1.0000 - val_loss: 6.4851e-05 - val_accuracy: 1.0000\n",
      "Epoch 29/50\n",
      "40/40 [==============================] - 0s 3ms/step - loss: 5.6077e-05 - accuracy: 1.0000 - val_loss: 6.0386e-05 - val_accuracy: 1.0000\n",
      "Epoch 30/50\n",
      "40/40 [==============================] - 0s 3ms/step - loss: 5.2154e-05 - accuracy: 1.0000 - val_loss: 5.6181e-05 - val_accuracy: 1.0000\n",
      "Epoch 31/50\n",
      "40/40 [==============================] - 0s 3ms/step - loss: 4.8628e-05 - accuracy: 1.0000 - val_loss: 5.2412e-05 - val_accuracy: 1.0000\n",
      "Epoch 32/50\n",
      "40/40 [==============================] - 0s 4ms/step - loss: 4.5426e-05 - accuracy: 1.0000 - val_loss: 4.9028e-05 - val_accuracy: 1.0000\n",
      "Epoch 33/50\n",
      "40/40 [==============================] - 0s 4ms/step - loss: 4.2535e-05 - accuracy: 1.0000 - val_loss: 4.5893e-05 - val_accuracy: 1.0000\n",
      "Epoch 34/50\n",
      "40/40 [==============================] - 0s 3ms/step - loss: 3.9872e-05 - accuracy: 1.0000 - val_loss: 4.3145e-05 - val_accuracy: 1.0000\n",
      "Epoch 35/50\n",
      "40/40 [==============================] - 0s 3ms/step - loss: 3.7458e-05 - accuracy: 1.0000 - val_loss: 4.0571e-05 - val_accuracy: 1.0000\n",
      "Epoch 36/50\n",
      "40/40 [==============================] - 0s 3ms/step - loss: 3.5243e-05 - accuracy: 1.0000 - val_loss: 3.8160e-05 - val_accuracy: 1.0000\n",
      "Epoch 37/50\n",
      "40/40 [==============================] - 0s 3ms/step - loss: 3.3204e-05 - accuracy: 1.0000 - val_loss: 3.5988e-05 - val_accuracy: 1.0000\n",
      "Epoch 38/50\n",
      "40/40 [==============================] - 0s 3ms/step - loss: 3.1322e-05 - accuracy: 1.0000 - val_loss: 3.4060e-05 - val_accuracy: 1.0000\n",
      "Epoch 39/50\n",
      "40/40 [==============================] - 0s 3ms/step - loss: 2.9596e-05 - accuracy: 1.0000 - val_loss: 3.2213e-05 - val_accuracy: 1.0000\n",
      "Epoch 40/50\n",
      "40/40 [==============================] - 0s 3ms/step - loss: 2.8002e-05 - accuracy: 1.0000 - val_loss: 3.0441e-05 - val_accuracy: 1.0000\n",
      "Epoch 41/50\n",
      "40/40 [==============================] - 0s 3ms/step - loss: 2.6526e-05 - accuracy: 1.0000 - val_loss: 2.8822e-05 - val_accuracy: 1.0000\n",
      "Epoch 42/50\n",
      "40/40 [==============================] - 0s 3ms/step - loss: 2.5139e-05 - accuracy: 1.0000 - val_loss: 2.7356e-05 - val_accuracy: 1.0000\n",
      "Epoch 43/50\n",
      "40/40 [==============================] - 0s 3ms/step - loss: 2.3863e-05 - accuracy: 1.0000 - val_loss: 2.5989e-05 - val_accuracy: 1.0000\n",
      "Epoch 44/50\n",
      "40/40 [==============================] - 0s 3ms/step - loss: 2.2676e-05 - accuracy: 1.0000 - val_loss: 2.4721e-05 - val_accuracy: 1.0000\n",
      "Epoch 45/50\n",
      "40/40 [==============================] - 0s 3ms/step - loss: 2.1563e-05 - accuracy: 1.0000 - val_loss: 2.3534e-05 - val_accuracy: 1.0000\n",
      "Epoch 46/50\n",
      "40/40 [==============================] - 0s 3ms/step - loss: 2.0537e-05 - accuracy: 1.0000 - val_loss: 2.2411e-05 - val_accuracy: 1.0000\n",
      "Epoch 47/50\n",
      "40/40 [==============================] - 0s 4ms/step - loss: 1.9562e-05 - accuracy: 1.0000 - val_loss: 2.1354e-05 - val_accuracy: 1.0000\n",
      "Epoch 48/50\n",
      "40/40 [==============================] - 0s 3ms/step - loss: 1.8644e-05 - accuracy: 1.0000 - val_loss: 2.0386e-05 - val_accuracy: 1.0000\n",
      "Epoch 49/50\n",
      "40/40 [==============================] - 0s 3ms/step - loss: 1.7798e-05 - accuracy: 1.0000 - val_loss: 1.9453e-05 - val_accuracy: 1.0000\n",
      "Epoch 50/50\n",
      "40/40 [==============================] - 0s 3ms/step - loss: 1.7001e-05 - accuracy: 1.0000 - val_loss: 1.8578e-05 - val_accuracy: 1.0000\n"
     ]
    }
   ],
   "source": [
    "# Fit the model to the training data\n",
    "history = model.fit(X_train_scaled, y_train, epochs=50, batch_size=32, validation_data=(X_val_scaled, y_val))\n"
   ]
  },
  {
   "cell_type": "code",
   "execution_count": 14,
   "id": "83a09e67",
   "metadata": {},
   "outputs": [
    {
     "name": "stdout",
     "output_type": "stream",
     "text": [
      "Model parameters (weights and biases):\n",
      "(12, 128)\n",
      "(128,)\n",
      "(128, 64)\n",
      "(64,)\n",
      "(64, 1)\n",
      "(1,)\n"
     ]
    }
   ],
   "source": [
    "# Get the model's parameters\n",
    "model_params = model.get_weights()\n",
    "print(\"Model parameters (weights and biases):\")\n",
    "for layer in model_params:\n",
    "    print(layer.shape)\n"
   ]
  },
  {
   "cell_type": "code",
   "execution_count": 15,
   "id": "6fe57806",
   "metadata": {},
   "outputs": [
    {
     "name": "stdout",
     "output_type": "stream",
     "text": [
      "       loss  accuracy  val_loss  val_accuracy\n",
      "0  0.391819  0.896012  0.174850       0.98125\n",
      "1  0.072660  0.996091  0.026559       1.00000\n",
      "2  0.013429  1.000000  0.007864       1.00000\n",
      "3  0.005095  1.000000  0.003920       1.00000\n",
      "4  0.002744  1.000000  0.002360       1.00000\n"
     ]
    }
   ],
   "source": [
    "import pandas as pd\n",
    "\n",
    "# Convert the training history to a DataFrame\n",
    "history_df = pd.DataFrame(history.history)\n",
    "print(history_df.head())\n"
   ]
  },
  {
   "cell_type": "code",
   "execution_count": 16,
   "id": "7b39669a",
   "metadata": {},
   "outputs": [
    {
     "data": {
      "image/png": "[encoded data removed]",
      "text/plain": [
       "<Figure size 1000x500 with 2 Axes>"
      ]
     },
     "metadata": {},
     "output_type": "display_data"
    }
   ],
   "source": [
    "import matplotlib.pyplot as plt\n",
    "\n",
    "# Plot training history\n",
    "plt.figure(figsize=(10, 5))\n",
    "\n",
    "# Plot training & validation accuracy values\n",
    "plt.subplot(1, 2, 1)\n",
    "plt.plot(history.history['accuracy'])\n",
    "plt.plot(history.history['val_accuracy'])\n",
    "plt.title('Model accuracy')\n",
    "plt.xlabel('Epoch')\n",
    "plt.ylabel('Accuracy')\n",
    "plt.legend(['Train', 'Validation'], loc='upper left')\n",
    "\n",
    "# Plot training & validation loss values\n",
    "plt.subplot(1, 2, 2)\n",
    "plt.plot(history.history['loss'])\n",
    "plt.plot(history.history['val_loss'])\n",
    "plt.title('Model loss')\n",
    "plt.xlabel('Epoch')\n",
    "plt.ylabel('Loss')\n",
    "plt.legend(['Train', 'Validation'], loc='upper left')\n",
    "\n",
    "plt.tight_layout()\n",
    "plt.show()\n"
   ]
  },
  {
   "cell_type": "code",
   "execution_count": 17,
   "id": "b1c6bfc1",
   "metadata": {},
   "outputs": [
    {
     "name": "stdout",
     "output_type": "stream",
     "text": [
      "5/5 [==============================] - 0s 2ms/step - loss: 1.3467e-05 - accuracy: 1.0000\n",
      "Test Loss: 1.3467203643813264e-05\n",
      "Test Accuracy: 1.0\n"
     ]
    }
   ],
   "source": [
    "# Evaluate the model on test data\n",
    "test_loss, test_accuracy = model.evaluate(X_test_scaled, y_test)\n",
    "print(f'Test Loss: {test_loss}')\n",
    "print(f'Test Accuracy: {test_accuracy}')\n"
   ]
  },
  {
   "cell_type": "code",
   "execution_count": null,
   "id": "ac2ae8ea",
   "metadata": {},
   "outputs": [],
   "source": []
  }
 ],
 "metadata": {
  "kernelspec": {
   "display_name": "Python 3 (ipykernel)",
   "language": "python",
   "name": "python3"
  },
  "language_info": {
   "codemirror_mode": {
    "name": "ipython",
    "version": 3
   },
   "file_extension": ".py",
   "mimetype": "text/x-python",
   "name": "python",
   "nbconvert_exporter": "python",
   "pygments_lexer": "ipython3",
   "version": "3.11.1"
  }
 },
 "nbformat": 4,
 "nbformat_minor": 5
}
