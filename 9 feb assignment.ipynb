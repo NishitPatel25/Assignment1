{
 "cells": [
  {
   "cell_type": "code",
   "execution_count": 2,
   "id": "47f75ae5-60f5-451f-9aad-3f5655ee8171",
   "metadata": {},
   "outputs": [],
   "source": [
    "Q1. Create a vehicle class with an init method having instance variables as name_of_vehicle, max_speed\n",
    "and average_of_vehicle."
   ]
  },
  {
   "cell_type": "code",
   "execution_count": 3,
   "id": "acef9c5d-bd4d-4213-b1fe-db4bbacc62f2",
   "metadata": {},
   "outputs": [],
   "source": [
    "class vehicle:\n",
    "    def __init__(self,name_of_vehicle,max_speed,average_of_vehicle):\n",
    "        self.vehicle_name=name_of_vehicle\n",
    "        self.speed=max_speed\n",
    "        self.vehicle_avg=average_of_vehicle"
   ]
  },
  {
   "cell_type": "code",
   "execution_count": 6,
   "id": "6d6dfeeb-7bb6-40f2-adbb-5a2a4e5ab7de",
   "metadata": {},
   "outputs": [],
   "source": [
    "car = vehicle(\"innova\",200,20)"
   ]
  },
  {
   "cell_type": "code",
   "execution_count": 7,
   "id": "d5f6ef4e-e11d-4af4-b29e-b1f1c4d45cd1",
   "metadata": {},
   "outputs": [
    {
     "data": {
      "text/plain": [
       "'innova'"
      ]
     },
     "execution_count": 7,
     "metadata": {},
     "output_type": "execute_result"
    }
   ],
   "source": [
    "car.vehicle_name"
   ]
  },
  {
   "cell_type": "code",
   "execution_count": 8,
   "id": "b9c605f6-32d2-4a81-86fe-430256f274d6",
   "metadata": {},
   "outputs": [
    {
     "data": {
      "text/plain": [
       "200"
      ]
     },
     "execution_count": 8,
     "metadata": {},
     "output_type": "execute_result"
    }
   ],
   "source": [
    "car.speed"
   ]
  },
  {
   "cell_type": "code",
   "execution_count": 9,
   "id": "21ebbad7-21de-4080-9c7c-08aa3eee5053",
   "metadata": {},
   "outputs": [
    {
     "data": {
      "text/plain": [
       "20"
      ]
     },
     "execution_count": 9,
     "metadata": {},
     "output_type": "execute_result"
    }
   ],
   "source": [
    "car.vehicle_avg"
   ]
  },
  {
   "cell_type": "code",
   "execution_count": null,
   "id": "806c7ea3-a64c-46ae-8f27-d674a4b34067",
   "metadata": {},
   "outputs": [],
   "source": [
    "Q2. Create a child class car from the vehicle class created in Que 1, which will inherit the vehicle class.\n",
    "Create a method named seating_capacity which takes capacity as an argument and returns the name of\n",
    "the vehicle and its seating capacity."
   ]
  },
  {
   "cell_type": "code",
   "execution_count": 13,
   "id": "433f2db2-a7d0-43b4-be4c-e2d7cabd332a",
   "metadata": {},
   "outputs": [],
   "source": [
    "class vehicle:\n",
    "    def __init__(self,name_of_vehicle,max_speed,average_of_vehicle):\n",
    "        self.vehicle_name=name_of_vehicle\n",
    "        self.speed=max_speed\n",
    "        self.vehicle_avg=average_of_vehicle"
   ]
  },
  {
   "cell_type": "code",
   "execution_count": 16,
   "id": "2eead7fc-fc5f-4237-8d1b-3e10d246b660",
   "metadata": {},
   "outputs": [],
   "source": [
    "class car(vehicle):\n",
    "    def seating_capacity(self, capacity):\n",
    "        return f\"{self.vehicle_name} has a seating capacity of {capacity} people.\"\n"
   ]
  },
  {
   "cell_type": "code",
   "execution_count": 17,
   "id": "f47af656-f52e-4734-a82a-7b073ca35b54",
   "metadata": {},
   "outputs": [
    {
     "name": "stdout",
     "output_type": "stream",
     "text": [
      "Toyota Corolla has a seating capacity of 5 people.\n"
     ]
    }
   ],
   "source": [
    "car = car(\"Toyota Corolla\", 120, 30)\n",
    "print(car.seating_capacity(5))\n"
   ]
  },
  {
   "cell_type": "code",
   "execution_count": null,
   "id": "e3db5dbe-bf20-495d-8941-89bc28813928",
   "metadata": {},
   "outputs": [],
   "source": [
    "Q3. What is multiple inheritance? Write a python code to demonstrate multiple inheritance."
   ]
  },
  {
   "cell_type": "code",
   "execution_count": 18,
   "id": "a8c22014-7791-46f6-903c-7fafb3523284",
   "metadata": {},
   "outputs": [
    {
     "name": "stdout",
     "output_type": "stream",
     "text": [
      "Mammals can give direct birth.\n",
      "Winged animals can flap.\n"
     ]
    }
   ],
   "source": [
    "class Mammal:\n",
    "    def mammal_info(self):\n",
    "        print(\"Mammals can give direct birth.\")\n",
    "\n",
    "class WingedAnimal:\n",
    "    def winged_animal_info(self):\n",
    "        print(\"Winged animals can flap.\")\n",
    "\n",
    "class Bat(Mammal, WingedAnimal):\n",
    "    pass\n",
    "\n",
    "b1 = Bat()\n",
    "\n",
    "b1.mammal_info()\n",
    "b1.winged_animal_info()"
   ]
  },
  {
   "cell_type": "code",
   "execution_count": null,
   "id": "fbad05cc-39b0-47d9-806d-3d5ce573f2c5",
   "metadata": {},
   "outputs": [],
   "source": [
    "Q4. What are getter and setter in python? Create a class and create a getter and a setter method in this\n",
    "class."
   ]
  },
  {
   "cell_type": "code",
   "execution_count": 19,
   "id": "49d0fcb8-1fd3-452f-bf7b-dd4019e30106",
   "metadata": {},
   "outputs": [],
   "source": [
    "#In Python, getters and setters are not the same as those in other object-oriented programming languages. Basically, the main purpose \n",
    "#of using getters and setters in object-oriented programs is to ensure data encapsulation"
   ]
  },
  {
   "cell_type": "code",
   "execution_count": 20,
   "id": "b3848fe2-10e8-47d5-8183-a8903db135fa",
   "metadata": {},
   "outputs": [
    {
     "name": "stdout",
     "output_type": "stream",
     "text": [
      "21\n",
      "21\n"
     ]
    }
   ],
   "source": [
    "class age:\n",
    "    def __init__(self, age = 0):\n",
    "         self._age = age\n",
    "      \n",
    "    # getter method\n",
    "    def get_age(self):\n",
    "        return self._age\n",
    "      \n",
    "    # setter method\n",
    "    def set_age(self, x):\n",
    "        self._age = x\n",
    "  \n",
    "raj = age()\n",
    "\n",
    "raj.set_age(21)\n",
    "\n",
    "print(raj.get_age())\n",
    "  \n",
    "print(raj._age)"
   ]
  },
  {
   "cell_type": "code",
   "execution_count": null,
   "id": "d7a66f86-0969-4208-9f4e-faf935398ada",
   "metadata": {},
   "outputs": [],
   "source": [
    "Q5.What is method overriding in python? Write a python code to demonstrate method overriding."
   ]
  },
  {
   "cell_type": "code",
   "execution_count": null,
   "id": "35258996-484b-4e10-bcca-aac7c22770a2",
   "metadata": {},
   "outputs": [],
   "source": [
    "Method overriding is a feature in object-oriented programming that allows a subclass to provide a different implementation of a \n",
    "method that is already defined in its parent class. This allows the subclass to modify the behavior of the inherited method without changing the original implementation in the parent class."
   ]
  },
  {
   "cell_type": "code",
   "execution_count": null,
   "id": "822d0d04-5406-4113-a86c-5cd3af99b664",
   "metadata": {},
   "outputs": [],
   "source": []
  },
  {
   "cell_type": "code",
   "execution_count": null,
   "id": "6384efd4-cc3a-4ddb-b3a1-86eac41396be",
   "metadata": {},
   "outputs": [],
   "source": []
  }
 ],
 "metadata": {
  "kernelspec": {
   "display_name": "Python 3 (ipykernel)",
   "language": "python",
   "name": "python3"
  },
  "language_info": {
   "codemirror_mode": {
    "name": "ipython",
    "version": 3
   },
   "file_extension": ".py",
   "mimetype": "text/x-python",
   "name": "python",
   "nbconvert_exporter": "python",
   "pygments_lexer": "ipython3",
   "version": "3.10.8"
  }
 },
 "nbformat": 4,
 "nbformat_minor": 5
}
