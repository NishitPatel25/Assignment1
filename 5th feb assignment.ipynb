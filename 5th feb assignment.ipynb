{
 "cells": [
  {
   "cell_type": "code",
   "execution_count": 2,
   "id": "d3ec6645-8ac2-403d-a634-2f92f03ec61f",
   "metadata": {},
   "outputs": [],
   "source": [
    "# 1)Explain Class and Object with respect to Object-Oriented Programming. Give a suitable example."
   ]
  },
  {
   "cell_type": "code",
   "execution_count": 3,
   "id": "7939d16f-c125-4dd1-8617-71e0fb6cb48b",
   "metadata": {},
   "outputs": [],
   "source": [
    "# Object-Oriented Programming (OOP) is a programming paradigm that uses the concept of \"objects\" to represent real-world entities. \n",
    "# An object is an instance of a class that contains data (attributes) and behaviors (methods). A class is a blueprint or template that \n",
    "# defines the structure and behavior of an object.\n",
    "\n",
    "# For example, consider a class called Car. This class could have attributes such as make, model, year, color, and mileage, as well as \n",
    "# methods such as start, accelerate, brake, and turn."
   ]
  },
  {
   "cell_type": "code",
   "execution_count": null,
   "id": "6bed0a80-04b2-4264-ac21-01316bd72969",
   "metadata": {},
   "outputs": [],
   "source": [
    "# 2)Name the four pillars of OOPs."
   ]
  },
  {
   "cell_type": "code",
   "execution_count": 4,
   "id": "336d2805-948a-4fe4-857b-42b245ba517b",
   "metadata": {},
   "outputs": [],
   "source": [
    "#The four pillars of Object-Oriented Programming (OOP) are:\n",
    "\n",
    "#Encapsulation: This refers to the practice of bundling data and methods that operate on that data within a single unit, such as a class. \n",
    "#The purpose of encapsulation is to protect the data from external interference and to provide a clean interface for interacting with the object.\n",
    "\n",
    "#Inheritance: This is the ability of a class to inherit properties and methods from a parent class. The purpose of inheritance is to promote \n",
    "#code reuse and to allow for the creation of more specialized classes based on more general ones.\n",
    "\n",
    "#Polymorphism: This refers to the ability of objects of different classes to be used interchangeably. Polymorphism can be achieved through\n",
    "#inheritance or through the use of interfaces and abstract classes.\n",
    "\n",
    "#Abstraction: This is the practice of reducing complex systems to their most essential components. Abstraction can be achieved through \n",
    "#the use of interfaces and abstract classes, which define a set of methods that implementing classes must provide, without specifying how \n",
    "#they should be implemented. The purpose of abstraction is to simplify the code and make it more maintainable."
   ]
  },
  {
   "cell_type": "code",
   "execution_count": null,
   "id": "fe695241-d4f5-453b-996a-05ccaff0bf0b",
   "metadata": {},
   "outputs": [],
   "source": [
    "# 3)Explain why the __init__() function is used. Give a suitable example."
   ]
  },
  {
   "cell_type": "code",
   "execution_count": 5,
   "id": "a3bc08fd-9180-410b-80b9-5017f4fa5d53",
   "metadata": {},
   "outputs": [],
   "source": [
    "#In Object-Oriented Programming (OOP), the __init__() function is a special method that is called when an object of a class is created.\n",
    "#It is used to initialize the attributes of the object to specific values. The __init__() method is also known as the constructor method, \n",
    "#as it constructs and initializes the object of the class.\n",
    "\n",
    "class Car:\n",
    "    def __init__(self, make, model, year, color, mileage):\n",
    "        self.make = make\n",
    "        self.model = model\n",
    "        self.year = year\n",
    "        self.color = color\n",
    "        self.mileage = mileage\n",
    "\n",
    "my_car = Car(\"Honda\", \"Civic\", 2021, \"Black\", 0)"
   ]
  },
  {
   "cell_type": "code",
   "execution_count": null,
   "id": "7454b853-8230-4dae-a7f3-bacd3255ef0f",
   "metadata": {},
   "outputs": [],
   "source": [
    "# 4)Why self is used in OOPs?"
   ]
  },
  {
   "cell_type": "code",
   "execution_count": 9,
   "id": "c1c5e01f-36c0-480c-b11d-08afc0b32e72",
   "metadata": {},
   "outputs": [],
   "source": [
    "\n",
    "#In Object-Oriented Programming (OOP), the self keyword is used to refer to the object that a method belongs to. In Python, self is the \n",
    "#conventional name used for this first parameter of instance methods.\n",
    "\n",
    "#When we define a class, we are defining a blueprint for an object. The methods of the class are functions that are associated with the object, \n",
    "#and they have access to the object's data attributes. In order to access the data attributes of an object, the method needs to know which object \n",
    "#it is operating on. This is where the self parameter comes in.\n",
    "\n",
    "#By convention, the first parameter of an instance method is self. When a method is called on an object, Python automatically passes a reference \n",
    "#to that object as the self parameter. This allows the method to access the object's data attributes and modify them if needed.\n"
   ]
  },
  {
   "cell_type": "code",
   "execution_count": 10,
   "id": "991e0746-db0a-4a07-b16d-8c670fff4b63",
   "metadata": {},
   "outputs": [],
   "source": [
    "# 5)What is inheritance? Give an example for each type of inheritance.\n"
   ]
  },
  {
   "cell_type": "code",
   "execution_count": 11,
   "id": "d10d2464-1373-494c-9d6a-baa7d258b54e",
   "metadata": {},
   "outputs": [],
   "source": [
    "#Inheritance is one of the fundamental concepts of Object-Oriented Programming (OOP) that allows us to create new classes based on\n",
    "#existing ones. In inheritance, a new class (called the derived class or subclass) is created by inheriting the properties and \n",
    "#methods of an existing class (called the base class or superclass). The derived class can then add its own properties and methods, \n",
    "#or it can modify the inherited ones."
   ]
  },
  {
   "cell_type": "code",
   "execution_count": null,
   "id": "db56aed0-bd88-46b3-aae8-e20ca2da5570",
   "metadata": {},
   "outputs": [],
   "source": [
    "#Single inheritance: In single inheritance, a derived class inherits from only one base class\n",
    "class Animal:\n",
    "    def __init__(self, name, species):\n",
    "        self.name = name\n",
    "        self.species = species\n",
    "\n",
    "class Dog(Animal):\n",
    "    def bark(self):\n",
    "        print(\"Woof!\")"
   ]
  }
 ],
 "metadata": {
  "kernelspec": {
   "display_name": "Python 3 (ipykernel)",
   "language": "python",
   "name": "python3"
  },
  "language_info": {
   "codemirror_mode": {
    "name": "ipython",
    "version": 3
   },
   "file_extension": ".py",
   "mimetype": "text/x-python",
   "name": "python",
   "nbconvert_exporter": "python",
   "pygments_lexer": "ipython3",
   "version": "3.10.8"
  }
 },
 "nbformat": 4,
 "nbformat_minor": 5
}
