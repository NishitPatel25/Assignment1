{
 "cells": [
  {
   "cell_type": "code",
   "execution_count": null,
   "id": "181503b7-b1c8-4bd5-8e95-2a21e51dfaa5",
   "metadata": {},
   "outputs": [],
   "source": [
    "#1)Create a python program to sort the given list of tuples based on integer value using a\n",
    "#  lambda function.\n",
    "#  [('Sachin Tendulkar', 34357), ('Ricky Ponting', 27483), ('Jack Kallis', 25534), ('Virat Kohli', 24936)]"
   ]
  },
  {
   "cell_type": "code",
   "execution_count": 16,
   "id": "ad9a3a00-f73f-4177-86b1-cc4a2db06bf8",
   "metadata": {},
   "outputs": [
    {
     "name": "stdout",
     "output_type": "stream",
     "text": [
      "[('Virat Kohli', 24936), ('Jack Kallis', 25534), ('Ricky Ponting', 27483), ('Sachin Tendulkar', 34357)]\n"
     ]
    }
   ],
   "source": [
    "tuple1 = [('Sachin Tendulkar', 34357), ('Ricky Ponting', 27483), ('Jack Kallis', 25534), ('Virat Kohli', 24936)]\n",
    "\n",
    "tuple1.sort(key=lambda x: x[1]) \n",
    "print(tuple1)"
   ]
  },
  {
   "cell_type": "code",
   "execution_count": null,
   "id": "e40ec233-0ac2-4798-92bd-0e2a9515479f",
   "metadata": {},
   "outputs": [],
   "source": [
    "#2)Write a Python Program to find the squares of all the numbers in the given list of integers using\n",
    "#lambda and map functions.\n",
    "#[1, 2, 3, 4, 5, 6, 7, 8, 9, 10]"
   ]
  },
  {
   "cell_type": "code",
   "execution_count": 13,
   "id": "7edc7c88-8bb7-4ada-b43b-3c085a6045ae",
   "metadata": {},
   "outputs": [],
   "source": [
    "l1=[1, 2, 3, 4, 5, 6, 7, 8, 9, 10]"
   ]
  },
  {
   "cell_type": "code",
   "execution_count": 14,
   "id": "ace3fc95-03a4-4ea1-ac01-0380e68fe6f9",
   "metadata": {},
   "outputs": [
    {
     "data": {
      "text/plain": [
       "[1, 4, 9, 16, 25, 36, 49, 64, 81, 100]"
      ]
     },
     "execution_count": 14,
     "metadata": {},
     "output_type": "execute_result"
    }
   ],
   "source": [
    "list(map(lambda x : x**2 ,l1))"
   ]
  },
  {
   "cell_type": "code",
   "execution_count": null,
   "id": "526ff694-910a-48e5-a4d5-3fbc3f090301",
   "metadata": {},
   "outputs": [],
   "source": [
    "#3) Write a python program to convert the given list of integers into a tuple of strings. Use map and lambda functions\n",
    "#   Given String: [1, 2, 3, 4, 5, 6, 7, 8, 9, 10]\n",
    "#   Expected output: ('1', '2', '3', '4', '5', '6', '7', '8', '9', '10')"
   ]
  },
  {
   "cell_type": "code",
   "execution_count": 17,
   "id": "56bba7be-ddaf-4698-b65f-2735ea51f5fc",
   "metadata": {},
   "outputs": [],
   "source": [
    "l1=[1, 2, 3, 4, 5, 6, 7, 8, 9, 10]"
   ]
  },
  {
   "cell_type": "code",
   "execution_count": 18,
   "id": "8f991226-6cc7-48fb-a741-af160e9121b8",
   "metadata": {},
   "outputs": [
    {
     "data": {
      "text/plain": [
       "('1', '2', '3', '4', '5', '6', '7', '8', '9', '10')"
      ]
     },
     "execution_count": 18,
     "metadata": {},
     "output_type": "execute_result"
    }
   ],
   "source": [
    "tuple(map(lambda x: str(x), l1))"
   ]
  },
  {
   "cell_type": "code",
   "execution_count": 19,
   "id": "984b1669-070d-44cf-be01-6edbb23c18f3",
   "metadata": {},
   "outputs": [],
   "source": [
    "#4) Write a python program using reduce function to compute the product of a list containing numbers from 1 to 25."
   ]
  },
  {
   "cell_type": "code",
   "execution_count": 26,
   "id": "35e95291-e98d-46b7-a38f-06af5768ddb0",
   "metadata": {},
   "outputs": [
    {
     "data": {
      "text/plain": [
       "15511210043330985984000000"
      ]
     },
     "execution_count": 26,
     "metadata": {},
     "output_type": "execute_result"
    }
   ],
   "source": [
    "from functools import reduce\n",
    "\n",
    "l = list(range(1, 26))\n",
    "reduce(lambda x,y:x*y ,l)"
   ]
  },
  {
   "cell_type": "code",
   "execution_count": 29,
   "id": "cf877c52-b15c-4868-b922-1ae6f1c6be14",
   "metadata": {},
   "outputs": [],
   "source": [
    "#5) Write a python program to filter the numbers in a given list that are divisible by 2 and 3 using the filter function.\n",
    "#   [2, 3, 6, 9, 27, 60, 90, 120, 55, 46]"
   ]
  },
  {
   "cell_type": "code",
   "execution_count": 31,
   "id": "7f677cbb-2853-4900-81e8-7902e5d49b83",
   "metadata": {},
   "outputs": [
    {
     "data": {
      "text/plain": [
       "[6, 60, 90, 120]"
      ]
     },
     "execution_count": 31,
     "metadata": {},
     "output_type": "execute_result"
    }
   ],
   "source": [
    "l = [2, 3, 6, 9, 27, 60, 90, 120, 55, 46]\n",
    "list(filter(lambda x: x%2==0 and x%3==0,l))"
   ]
  },
  {
   "cell_type": "code",
   "execution_count": null,
   "id": "cfd9080c-74c5-4686-8e8c-2543f2576f16",
   "metadata": {},
   "outputs": [],
   "source": [
    "#6) Write a python program to find palindromes in the given list of strings using lambda and filter function.\n",
    "#   ['python', 'php', 'aba', 'radar', 'level']"
   ]
  },
  {
   "cell_type": "code",
   "execution_count": 41,
   "id": "06264457-faea-4d30-97df-0a1f063d9fe6",
   "metadata": {},
   "outputs": [
    {
     "name": "stdout",
     "output_type": "stream",
     "text": [
      "0\n"
     ]
    }
   ],
   "source": [
    "l=['python', 'php', 'aba', 'radar', 'level']\n",
    "reverse=reversed(l)\n",
    "count=0\n",
    "if list(l) == list(reverse):\n",
    "    count= count+1\n",
    "    \n",
    "print(count)"
   ]
  },
  {
   "cell_type": "code",
   "execution_count": 39,
   "id": "dfbcbba5-1a3b-4ef7-bcf5-826c1492eead",
   "metadata": {},
   "outputs": [
    {
     "name": "stdout",
     "output_type": "stream",
     "text": [
      "0\n"
     ]
    }
   ],
   "source": [
    "count=0\n",
    "if (l == reverse):\n",
    "    count= count+1\n",
    "    \n",
    "print(count)"
   ]
  }
 ],
 "metadata": {
  "kernelspec": {
   "display_name": "Python 3 (ipykernel)",
   "language": "python",
   "name": "python3"
  },
  "language_info": {
   "codemirror_mode": {
    "name": "ipython",
    "version": 3
   },
   "file_extension": ".py",
   "mimetype": "text/x-python",
   "name": "python",
   "nbconvert_exporter": "python",
   "pygments_lexer": "ipython3",
   "version": "3.10.8"
  }
 },
 "nbformat": 4,
 "nbformat_minor": 5
}
