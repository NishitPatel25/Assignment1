{
 "cells": [
  {
   "cell_type": "code",
   "execution_count": null,
   "id": "c8a479f5-1a6d-44ba-8e1a-1697041d004e",
   "metadata": {},
   "outputs": [],
   "source": [
    "1) What is Flask Framework? What are the advantages of Flask Framework?"
   ]
  },
  {
   "cell_type": "code",
   "execution_count": null,
   "id": "6d134d81-77f8-4e82-8ceb-b9b6ffe1d1a5",
   "metadata": {},
   "outputs": [],
   "source": [
    "Flask is a web framework, it’s a Python module that lets you develop web applications easily. It’s has a small and easy-to-extend core: \n",
    "it’s a microframework that doesn’t include an ORM (Object Relational Manager) or such features.\n",
    "It does have many cool features like url routing, template engine.\n",
    "\n",
    "Lightweight: Flask is a lightweight framework because it is independent of external libraries and it gives a quick start for web development \n",
    "having complex applications. \n",
    "Compatible: Flask is compatible with the latest technologies such as machine learning, agile development, cloud technologies, etc."
   ]
  },
  {
   "cell_type": "code",
   "execution_count": null,
   "id": "44b87294-8057-4f60-8b35-bb2e98394c71",
   "metadata": {},
   "outputs": [],
   "source": [
    "2) Create a simple Flask application to display ‘Hello World!!’. Attach the screenshot of the output in \n",
    "Jupyter Notebook"
   ]
  },
  {
   "cell_type": "code",
   "execution_count": null,
   "id": "c08aeae6-3950-4736-a5bc-ce07816dc14e",
   "metadata": {},
   "outputs": [],
   "source": [
    "from flask import Flask\n",
    "\n",
    "app = Flask(__name__)\n",
    "\n",
    "@app.route(\"/hello_world\")\n",
    "def hello_world():\n",
    "    return \"hello World!!\"\n",
    "\n",
    "if __name__==\"__main__\":\n",
    "    app.run(host=\"0.0.0.0\")\n",
    "\n",
    "output: hello World!!\n",
    "\n",
    "\n",
    "NOTE:i dont know how to paste image in jupyter notebook"
   ]
  },
  {
   "cell_type": "code",
   "execution_count": null,
   "id": "25f6e591-4211-46a5-be2f-07a8fb6093cc",
   "metadata": {},
   "outputs": [],
   "source": [
    "3) What is App routing in Flask? Why do we use app routes?"
   ]
  },
  {
   "cell_type": "code",
   "execution_count": null,
   "id": "f4672b6a-f6a9-4b9b-acfa-da4ab7152860",
   "metadata": {},
   "outputs": [],
   "source": [
    "In Flask, app routing refers to the process of mapping URLs (Uniform Resource Locators) to specific functions or views within a \n",
    "Flask application. It involves defining routes or URL patterns that determine how the application responds to different URLs or HTTP requests.\n",
    "\n",
    "Heres why we use app routes in Flask:\n",
    "\n",
    "a) Handling different URLs: App routes allow you to handle different URLs or endpoints within your Flask application. \n",
    "Each route corresponds to a specific URL pattern, such as \"/home\", \"/about\", or \"/products\". By defining routes, you can \n",
    "direct users to different parts of your application based on their requested URLs.\n",
    "\n",
    "b) Mapping to functions / views: Routes are used to map URLs to specific functions or views that handle the corresponding requests. \n",
    "When a user accesses a URL, Flask matches the URL to the defined routes and calls the associated function to generate a response. \n",
    "This allows you to organize your code and define the logic for each page or endpoint separately.\n",
    "\n",
    "c) Dynamic routing: Flask supports dynamic routing by allowing the use of variable parts in URLs. This means you can define routes with \n",
    "placeholders that capture values from the URL and pass them as arguments to the corresponding view functions. Dynamic routing is useful\n",
    "when you have URLs that vary based on parameters or data, such as \"/users/123\" or \"/products/5\".\n",
    "\n",
    "d) HTTP methods: Routes in Flask can be associated with specific HTTP methods, such as GET, POST, PUT, DELETE, etc. This allows you to define \n",
    "different routes for different types of requests. For example, you can have one route that handles GET requests to display "
   ]
  },
  {
   "cell_type": "code",
   "execution_count": null,
   "id": "69c588c4-8379-4231-b198-541a7630b4a6",
   "metadata": {},
   "outputs": [],
   "source": [
    "4)   Create a “/welcome” route to display the welcome message “Welcome to ABC Corporation” and a “/” \n",
    "route to show the following details:\n",
    "\n",
    "    Company Name: ABC Corporation\n",
    "\n",
    "    Location: India\n",
    "\n",
    "    Contact Detail: 999-999-9999"
   ]
  },
  {
   "cell_type": "code",
   "execution_count": null,
   "id": "f06b4bf2-84eb-4070-b736-0efca19e4399",
   "metadata": {},
   "outputs": [],
   "source": [
    "from flask import Flask\n",
    "\n",
    "app = Flask(__name__)\n",
    "\n",
    "@app.route(\"/welcome\")\n",
    "def welcome():\n",
    "    return \"Welcome to ABC Corporation\"\n",
    "\n",
    "@app.route(\"/\")\n",
    "def welcome():\n",
    "    return \"\"\"\n",
    "    Company Name: ABC Corporation\n",
    "\n",
    "    Location: India\n",
    "\n",
    "    Contact Detail: 999-999-9999\n",
    "    \"\"\"\n",
    "\n",
    "if __name__==\"__main__\":\n",
    "    app.run(host=\"0.0.0.0\")\n",
    "    \n",
    "\n",
    "    \n",
    "output of welcome:\n",
    "    Welcome to ABC Corporation\n",
    "    \n",
    "output of /:\n",
    "    Company Name: ABC Corporation\n",
    "\n",
    "    Location: India\n",
    "\n",
    "    Contact Detail: 999-999-9999"
   ]
  },
  {
   "cell_type": "code",
   "execution_count": null,
   "id": "a0cddbf9-3dd8-4c6c-a82c-aa913e8f34c9",
   "metadata": {},
   "outputs": [],
   "source": [
    "5)  What function is used in Flask for URL Building? Write a Python code to demonstrate the working of the url_for() function."
   ]
  },
  {
   "cell_type": "code",
   "execution_count": null,
   "id": "70608526-2291-4bee-b721-dbb716ca2eef",
   "metadata": {},
   "outputs": [],
   "source": [
    "In Flask, the url_for() function is used for URL building.\n",
    "\n",
    "from flask import Flask, url_for\n",
    "\n",
    "app = Flask(__name__)\n",
    "\n",
    "@app.route('/')\n",
    "def index():\n",
    "    return 'Hello, Flask!'\n",
    "\n",
    "@app.route('/user/<username>')\n",
    "def profile(username):\n",
    "    return f'Hello, {username}!'\n",
    "\n",
    "@app.route('/product/<int:product_id>')\n",
    "def product(product_id):\n",
    "    return f'Product ID: {product_id}'\n",
    "\n",
    "@app.route('/admin')\n",
    "def admin():\n",
    "    return 'Admin Page'\n",
    "\n",
    "if __name__ == '__main__':\n",
    "    with app.test_request_context():\n",
    "        # Generating URLs using url_for()\n",
    "        print(url_for('index'))  # Output: /\n",
    "        print(url_for('profile', username='John'))  # Output: /user/John\n",
    "        print(url_for('product', product_id=42))  # Output: /product/42\n",
    "        print(url_for('admin'))  # Output: /admin\n"
   ]
  },
  {
   "cell_type": "code",
   "execution_count": null,
   "id": "33e30ba6-10dc-4f6b-b162-47949cf21f27",
   "metadata": {},
   "outputs": [],
   "source": []
  },
  {
   "cell_type": "code",
   "execution_count": null,
   "id": "94af61a5-8dd7-44a0-925d-cf90544012eb",
   "metadata": {},
   "outputs": [],
   "source": []
  },
  {
   "cell_type": "code",
   "execution_count": null,
   "id": "f631f55d-3372-4156-bdf0-29ea39fa33ee",
   "metadata": {},
   "outputs": [],
   "source": [
    "\n"
   ]
  },
  {
   "cell_type": "code",
   "execution_count": null,
   "id": "f69a44d0-1fcc-4fe3-9d34-2c076b6d4aa0",
   "metadata": {},
   "outputs": [],
   "source": []
  },
  {
   "cell_type": "code",
   "execution_count": null,
   "id": "fa7b1103-b7d7-4a12-85a5-1f88f30f55e5",
   "metadata": {},
   "outputs": [],
   "source": []
  },
  {
   "cell_type": "code",
   "execution_count": null,
   "id": "6478e7cd-b230-4814-b502-6654eb4ac061",
   "metadata": {},
   "outputs": [],
   "source": []
  },
  {
   "cell_type": "code",
   "execution_count": null,
   "id": "a065ff3f-b2e3-4f7f-ac8b-8ba38d42057d",
   "metadata": {},
   "outputs": [],
   "source": []
  }
 ],
 "metadata": {
  "kernelspec": {
   "display_name": "Python 3 (ipykernel)",
   "language": "python",
   "name": "python3"
  },
  "language_info": {
   "codemirror_mode": {
    "name": "ipython",
    "version": 3
   },
   "file_extension": ".py",
   "mimetype": "text/x-python",
   "name": "python",
   "nbconvert_exporter": "python",
   "pygments_lexer": "ipython3",
   "version": "3.10.8"
  }
 },
 "nbformat": 4,
 "nbformat_minor": 5
}
