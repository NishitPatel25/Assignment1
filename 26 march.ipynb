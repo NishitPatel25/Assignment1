{
 "cells": [
  {
   "cell_type": "markdown",
   "id": "5315886b-1aa9-4b30-9a1b-bd9ff033d6d5",
   "metadata": {
    "tags": []
   },
   "source": [
    "## Q1. Explain the difference between simple linear regression and multiple linear regression. Provide an example of each."
   ]
  },
  {
   "cell_type": "code",
   "execution_count": null,
   "id": "a6c0c98c-dcc0-469d-8a28-f3461a1d1cb5",
   "metadata": {},
   "outputs": [],
   "source": [
    "## Simple linear regression involves predicting a dependent variable using only one independent variable. \n",
    "## The relationship is modeled as a straight line, expressing a linear association. For instance, predicting a students exam score (dependent variable) based on the number of hours they studied (independent variable).\n",
    "\n",
    "## Multiple linear regression extends this to include multiple independent variables, allowing for a more complex prediction model. For example, predicting a house price (dependent variable) using factors like square footage, \n",
    "## number of bedrooms, and location (multiple independent variables). The model equation becomes more elaborate, capturing the combined impact of all predictors on the outcome."
   ]
  },
  {
   "cell_type": "markdown",
   "id": "9889e0e2-984e-436a-96d5-933076a6a138",
   "metadata": {},
   "source": [
    "## Q2. Discuss the assumptions of linear regression. How can you check whether these assumptions hold in a given dataset?"
   ]
  },
  {
   "cell_type": "code",
   "execution_count": null,
   "id": "2b3f5466-86f3-4887-9bf9-d26cdae7b43c",
   "metadata": {},
   "outputs": [],
   "source": [
    "## Linearity: The relationship between the dependent and independent variables is linear.\n",
    "## Independence: The observations are independent of each other.\n",
    "## Homoscedasticity: The variance of the errors is constant across all levels of the independent variables.\n",
    "## Normality: The errors follow a normal distribution.\n",
    "## No multicollinearity: The independent variables are not highly correlated with each other.\n",
    "## No endogeneity: There is no relationship between the errors and the independent variables."
   ]
  },
  {
   "cell_type": "markdown",
   "id": "d6d403b6-bf57-482e-9d0d-ad2e707dedf5",
   "metadata": {},
   "source": [
    "## Q3. How do you interpret the slope and intercept in a linear regression model? Provide an example using a real-world scenario."
   ]
  },
  {
   "cell_type": "code",
   "execution_count": null,
   "id": "9ef3fe45-1397-4c2d-b4b6-ae6c38b7df6d",
   "metadata": {},
   "outputs": [],
   "source": [
    "## The slope in a linear regression model represents the change in the dependent variable for a one-unit change in the independent variable.\n",
    "## The intercept is the expected value of the dependent variable when the independent variable is zero.\n",
    "## Example: In predicting house prices, the slope indicates the change in price for each additional square foot, and the intercept represents the base price when the square footage is zero (which might not\n",
    "## have practical meaning)."
   ]
  },
  {
   "cell_type": "markdown",
   "id": "003382bf-260e-4e96-8e41-bf185700804a",
   "metadata": {},
   "source": [
    "## Q4. Explain the concept of gradient descent. How is it used in machine learning?"
   ]
  },
  {
   "cell_type": "code",
   "execution_count": null,
   "id": "a2f51db0-5d71-40ae-ad59-e1138c87fe87",
   "metadata": {},
   "outputs": [],
   "source": [
    "## Gradient Descent is an optimization algorithm used to minimize the error in models by adjusting parameters iteratively.\n",
    "## It calculates the gradient of the loss function with respect to the model parameters and updates them in the direction that minimizes the loss.\n",
    "## Example: In linear regression, it adjusts the coefficients to minimize the difference between predicted and actual values."
   ]
  },
  {
   "cell_type": "markdown",
   "id": "0c75f0df-01d8-42ed-a1bc-aecb49ccf52f",
   "metadata": {},
   "source": [
    "## Q5. Describe the multiple linear regression model. How does it differ from simple linear regression?"
   ]
  },
  {
   "cell_type": "code",
   "execution_count": null,
   "id": "e59d43fd-dccf-40ea-8d09-98e30d1e2aee",
   "metadata": {},
   "outputs": [],
   "source": [
    "## Multiple linear regression involves predicting a dependent variable using two or more independent variables.\n",
    "## The model equation becomes a weighted sum of the independent variables, each multiplied by its respective coefficient.\n",
    "## Difference: Unlike simple linear regression, it considers multiple predictors, capturing their collective influence on the dependent variable."
   ]
  },
  {
   "cell_type": "markdown",
   "id": "0f36b8a4-bad3-4aee-8577-52d1a5bec074",
   "metadata": {},
   "source": [
    "## Q6. Explain the concept of multicollinearity in multiple linear regression. How can you detect and address this issue?"
   ]
  },
  {
   "cell_type": "code",
   "execution_count": null,
   "id": "2bbb3b60-9351-4f89-9c79-d240091dbe70",
   "metadata": {},
   "outputs": [],
   "source": [
    "## Multicollinearity occurs when independent variables are highly correlated, making it challenging to isolate their individual effects.\n",
    "## Detection involves examining correlation matrices, VIF values, or condition indices.\n",
    "## Addressing it may involve removing correlated variables or applying dimensionality reduction techniques."
   ]
  },
  {
   "cell_type": "markdown",
   "id": "7cf83f70-b754-44d4-9e55-730a2bf8e9bd",
   "metadata": {},
   "source": [
    "## Q7. Describe the polynomial regression model. How is it different from linear regression?"
   ]
  },
  {
   "cell_type": "code",
   "execution_count": 2,
   "id": "967cceef-3519-48c7-885c-26849701e0c6",
   "metadata": {},
   "outputs": [],
   "source": [
    "## Polynomial regression is an extension of linear regression that accommodates non-linear relationships between the independent and dependent variables. Instead of fitting a straight line,\n",
    "## it models the relationship using a polynomial equation of higher degree. The general form of a polynomial regression equation of degree n is:\n",
    "    \n",
    "## Differences from Linear Regression:\n",
    "\n",
    "## Nature of Relationship:\n",
    "\n",
    "## Linear Regression: Assumes a linear relationship between the independent and dependent variables, fitting a straight line.\n",
    "## Polynomial Regression: Allows for non-linear relationships by introducing polynomial terms (\n",
    "\n",
    "## Linear Regression: Equation is a simple linear combination of variables.\n",
    "## Polynomial Regression: Equation includes multiple terms raised to different powers, making it more complex.\n",
    "\n",
    "##Flexibility:\n",
    "\n",
    "##Linear Regression: Suitable for linear data patterns.\n",
    "##Polynomial Regression: More flexible in capturing complex, non-linear patterns in the data.\n",
    "\n",
    "##Overfitting:\n",
    "\n",
    "##Linear Regression: Less prone to overfitting as it assumes a simpler relationship.\n",
    "##Polynomial Regression: More susceptible to overfitting, especially with higher-degree polynomials, requiring careful model evaluation.\n",
    "\n",
    "##Interpretability:\n",
    "\n",
    "##Linear Regression: Coefficients represent the change in the dependent variable per unit change in the independent variable.\n",
    "##Polynomial Regression: Interpretation becomes more complex as coefficients are associated with powers of the independent variable.\n",
    "    \n"
   ]
  },
  {
   "cell_type": "markdown",
   "id": "d5e252e2-f0e2-4f0a-a32a-e216054f7827",
   "metadata": {},
   "source": [
    "## Q8. What are the advantages and disadvantages of polynomial regression compared"
   ]
  },
  {
   "cell_type": "code",
   "execution_count": null,
   "id": "b8dfe984-acb2-4f6b-8cd3-782ccc085607",
   "metadata": {},
   "outputs": [],
   "source": [
    "## Advantages of Polynomial Regression:\n",
    "\n",
    "Captures Non-linear Patterns:\n",
    "Polynomial regression can model and capture more complex, non-linear relationships in the data.\n",
    "\n",
    "Versatility:\n",
    "It is versatile and can be applied to various types of data patterns, allowing for a broader range of applications.\n",
    "\n",
    "Flexibility in Fitting:\n",
    "Polynomial regression can closely fit the training data, especially when the underlying relationship is not strictly linear.\n",
    "\n",
    "Disadvantages of Polynomial Regression:\n",
    "\n",
    "Overfitting:\n",
    "One of the main challenges is the risk of overfitting, particularly with higher-degree polynomials. The model may fit the training data too closely, leading to poor generalization on new, unseen data.\n",
    "\n",
    "Increased Complexity:\n",
    "As the degree of the polynomial increases, the equation becomes more complex, making it harder to interpret and understand the individual contributions of each term.\n",
    "\n",
    "Data Sensitivity:\n",
    "Polynomial regression is sensitive to small changes in the data, and outliers can have a significant impact on the model.\n",
    "\n",
    "Computational Intensity:\n",
    "Higher-degree polynomials require more computational resources for training and prediction, making them less efficient, especially with large datasets.\n",
    "\n",
    "Interpretability:\n",
    "Interpretation of results becomes more challenging as the model includes multiple terms with different powers. Understanding the practical significance of each coefficient becomes less straightforward."
   ]
  },
  {
   "cell_type": "code",
   "execution_count": null,
   "id": "4ef6033e-3bb7-49bd-905d-1a3b97652db3",
   "metadata": {},
   "outputs": [],
   "source": []
  }
 ],
 "metadata": {
  "kernelspec": {
   "display_name": "Python 3 (ipykernel)",
   "language": "python",
   "name": "python3"
  },
  "language_info": {
   "codemirror_mode": {
    "name": "ipython",
    "version": 3
   },
   "file_extension": ".py",
   "mimetype": "text/x-python",
   "name": "python",
   "nbconvert_exporter": "python",
   "pygments_lexer": "ipython3",
   "version": "3.10.8"
  }
 },
 "nbformat": 4,
 "nbformat_minor": 5
}
