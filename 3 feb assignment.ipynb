{
 "cells": [
  {
   "cell_type": "code",
   "execution_count": 1,
   "id": "65bafdf1-c358-4653-b7e7-1bc735409348",
   "metadata": {},
   "outputs": [],
   "source": [
    "#1)\n",
    "#Which keyword is used to create a function? Create a function to return a list of odd numbers in the\n",
    "#range of 1 to 25.\n"
   ]
  },
  {
   "cell_type": "code",
   "execution_count": 5,
   "id": "f5d13bf6-1162-4f93-844a-9e91581f4917",
   "metadata": {},
   "outputs": [],
   "source": [
    "# the def key word is used to create a function in python\n",
    "def odd():\n",
    "    l=[]\n",
    "    for i in range(25):\n",
    "        if i%2 != 0:\n",
    "            l.append(i)\n",
    "    return l"
   ]
  },
  {
   "cell_type": "code",
   "execution_count": 7,
   "id": "f234fc2f-c6bc-45a0-b16d-f47b343ba9f5",
   "metadata": {},
   "outputs": [
    {
     "data": {
      "text/plain": [
       "[1, 3, 5, 7, 9, 11, 13, 15, 17, 19, 21, 23]"
      ]
     },
     "execution_count": 7,
     "metadata": {},
     "output_type": "execute_result"
    }
   ],
   "source": [
    "odd()"
   ]
  },
  {
   "cell_type": "code",
   "execution_count": 8,
   "id": "885b1220-5deb-428d-b827-9d726bc2d65f",
   "metadata": {},
   "outputs": [],
   "source": [
    "#2)\n",
    "# Why *args and **kwargs is used in some functions? Create a function each for *args and **kwargs\n",
    "# to demonstrate their use."
   ]
  },
  {
   "cell_type": "code",
   "execution_count": 9,
   "id": "b7f138e4-5afe-4c5f-a93d-b0f7e9cddaff",
   "metadata": {},
   "outputs": [],
   "source": [
    "#In Python, *args and **kwargs are used in function definitions to allow a variable number of arguments to be passed to the function.\n",
    "def test11(*args):\n",
    "    return args"
   ]
  },
  {
   "cell_type": "code",
   "execution_count": 10,
   "id": "a62357ba-0c45-4b1a-b4cb-5f89e0d99270",
   "metadata": {},
   "outputs": [
    {
     "data": {
      "text/plain": [
       "(1, 2, 3)"
      ]
     },
     "execution_count": 10,
     "metadata": {},
     "output_type": "execute_result"
    }
   ],
   "source": [
    "test11(1,2,3)"
   ]
  },
  {
   "cell_type": "code",
   "execution_count": 16,
   "id": "8cc859b8-6fc0-43d5-9b7f-7ded505d6ef1",
   "metadata": {},
   "outputs": [],
   "source": [
    "def myFun(arg1, arg2):\n",
    "    print(\"arg1:\", arg1)\n",
    "    print(\"arg2:\", arg2)\n"
   ]
  },
  {
   "cell_type": "code",
   "execution_count": 17,
   "id": "345ece2c-f804-4b28-a162-2dff64b59162",
   "metadata": {},
   "outputs": [
    {
     "name": "stdout",
     "output_type": "stream",
     "text": [
      "arg1: Nishit\n",
      "arg2: Patel\n"
     ]
    }
   ],
   "source": [
    "kwargs = {\"arg1\": \"Nishit\", \"arg2\": \"Patel\"}\n",
    "myFun(**kwargs)"
   ]
  },
  {
   "cell_type": "code",
   "execution_count": 18,
   "id": "dd2536eb-ed13-4e81-be75-77c8be521bf4",
   "metadata": {},
   "outputs": [],
   "source": [
    "#3)  What is an iterator in python? Name the method used to initialise the iterator object and the method\n",
    "#used for iteration. Use these methods to print the first five elements of the given list [2, 4, 6, 8, 10, 12, 14,\n",
    "#16, 18, 20].\n"
   ]
  },
  {
   "cell_type": "code",
   "execution_count": 20,
   "id": "a098a975-f893-4e59-b198-415f506ce391",
   "metadata": {},
   "outputs": [
    {
     "name": "stdout",
     "output_type": "stream",
     "text": [
      "2\n",
      "4\n",
      "6\n",
      "8\n",
      "10\n"
     ]
    }
   ],
   "source": [
    "# An iterator is an object that allows you to iterate over collections of data, such as lists, tuples, dictionaries, and sets\n",
    "#To initialize an iterator object, we can use the iter() method, and to iterate through the elements of an iterator, we can use \n",
    "#a for loop or the next() method.\n",
    "l= [2, 4, 6, 8, 10, 12, 14, 16, 18, 20]\n",
    "\n",
    "# initialize the iterator object\n",
    "itr = iter(l)\n",
    "\n",
    "# iterate through the first five elements using a for loop\n",
    "for i in range(5):\n",
    "    print(next(itr))\n"
   ]
  },
  {
   "cell_type": "code",
   "execution_count": null,
   "id": "0d7326d0-4d7d-463b-b2fa-17df8a948457",
   "metadata": {},
   "outputs": [],
   "source": [
    "#4) What is a generator function in python? Why yield keyword is used? Give an example of a generator\n",
    "#function."
   ]
  },
  {
   "cell_type": "code",
   "execution_count": null,
   "id": "f6f872a8-daeb-46a4-b672-fd4e2f777236",
   "metadata": {},
   "outputs": [],
   "source": [
    "# In Python, a generator function is a special type of function that allows you to generate a sequence of values instead of generating them \n",
    "# all at once and storing them in memory.\n",
    "# It does this by using the yield keyword \n",
    "\n",
    "#When a generator function is called, it returns an iterator object, which can be used to iterate over the sequence of values generated \n",
    "#by the function. Each time the yield keyword is encountered in the generator function, the function's state is saved, and the value specified\n",
    "#by yield is returned to the iterator. When the iterator's next() method is called again, the function resumes from where it left off and\n",
    "#continues executing until it encounters another yield statement."
   ]
  },
  {
   "cell_type": "code",
   "execution_count": 1,
   "id": "0716e84c-33df-4ce0-b6f0-0aab10367832",
   "metadata": {},
   "outputs": [],
   "source": [
    "def test_fib1():\n",
    "    a,b = 0,1\n",
    "    while True:\n",
    "        yield a \n",
    "        a,b = b , a+b"
   ]
  },
  {
   "cell_type": "code",
   "execution_count": 4,
   "id": "0fc0c506-1cf8-4acf-a043-c64e4ab88a3e",
   "metadata": {},
   "outputs": [],
   "source": [
    "fib = test_fib1()"
   ]
  },
  {
   "cell_type": "code",
   "execution_count": 5,
   "id": "de3392c3-cc90-4e34-ae1a-b68cd1001ac3",
   "metadata": {},
   "outputs": [
    {
     "name": "stdout",
     "output_type": "stream",
     "text": [
      "0\n",
      "1\n",
      "1\n",
      "2\n",
      "3\n",
      "5\n",
      "8\n",
      "13\n",
      "21\n",
      "34\n"
     ]
    }
   ],
   "source": [
    "for i in range(10):\n",
    "    print(next(fib))"
   ]
  },
  {
   "cell_type": "code",
   "execution_count": 14,
   "id": "eb094523-2cb8-45a3-aecf-61fb0240b3fd",
   "metadata": {},
   "outputs": [],
   "source": [
    "# 5)Create a generator function for prime numbers less than 1000. Use the next() method to print the\n",
    "# first 20 prime numbers.\n",
    "def prime():\n",
    "    for num in range(0, 1000):\n",
    "        # all prime numbers are greater than 1\n",
    "        if num > 1:\n",
    "            for i in range(2, num):\n",
    "                if (num % i) == 0:\n",
    "                    break\n",
    "            else:\n",
    "                yield num"
   ]
  },
  {
   "cell_type": "code",
   "execution_count": 15,
   "id": "91a11600-d1d6-43ed-9260-983b8b2331f4",
   "metadata": {},
   "outputs": [],
   "source": [
    "prime_no=prime()"
   ]
  },
  {
   "cell_type": "code",
   "execution_count": 16,
   "id": "ea1bbb81-16f7-4b33-b845-309d37e9ff9c",
   "metadata": {},
   "outputs": [
    {
     "name": "stdout",
     "output_type": "stream",
     "text": [
      "2\n",
      "3\n",
      "5\n",
      "7\n",
      "11\n",
      "13\n",
      "17\n",
      "19\n",
      "23\n",
      "29\n",
      "31\n",
      "37\n",
      "41\n",
      "43\n",
      "47\n",
      "53\n",
      "59\n",
      "61\n",
      "67\n",
      "71\n"
     ]
    }
   ],
   "source": [
    "for i in range(20):\n",
    "    print(next(prime_no))"
   ]
  },
  {
   "cell_type": "code",
   "execution_count": 17,
   "id": "30b716ce-6fa2-4bf9-ae03-686c4f5358cb",
   "metadata": {},
   "outputs": [],
   "source": [
    "#6)Write a python program to print the first 10 Fibonacci numbers using a while loop"
   ]
  },
  {
   "cell_type": "code",
   "execution_count": 23,
   "id": "93c56d52-7cd8-4a49-be13-232fa707aab3",
   "metadata": {},
   "outputs": [
    {
     "name": "stdout",
     "output_type": "stream",
     "text": [
      "0 1 1 2 3 5 8 13 21 34 "
     ]
    }
   ],
   "source": [
    "a, b = 0, 1\n",
    "count = 0\n",
    "\n",
    "while count < 10:\n",
    "    print(a, end=' ')\n",
    "    c = a + b\n",
    "    a = b\n",
    "    b = c\n",
    "    count += 1\n"
   ]
  },
  {
   "cell_type": "code",
   "execution_count": 21,
   "id": "2cde1ec4-3688-4db2-98bb-f9767dbeaadc",
   "metadata": {},
   "outputs": [],
   "source": [
    "#7)Write a List Comprehension to iterate through the given string: ‘pwskills’.\n",
    "\n",
    "# Expected output: ['p', 'w', 's', 'k', 'i', 'l', 'l', 's'] "
   ]
  },
  {
   "cell_type": "code",
   "execution_count": 26,
   "id": "bf686da6-3f1a-41bd-975f-ee87fbd12f04",
   "metadata": {},
   "outputs": [
    {
     "data": {
      "text/plain": [
       "['p', 'w', 's', 'k', 'i', 'l', 'l', 's']"
      ]
     },
     "execution_count": 26,
     "metadata": {},
     "output_type": "execute_result"
    }
   ],
   "source": [
    "str=\"pwskills\"\n",
    "[char for char in str]"
   ]
  },
  {
   "cell_type": "code",
   "execution_count": 29,
   "id": "cd4b1cde-0c23-4888-b786-842f31074db4",
   "metadata": {},
   "outputs": [
    {
     "name": "stdin",
     "output_type": "stream",
     "text": [
      "Enter a string: madam\n"
     ]
    },
    {
     "name": "stdout",
     "output_type": "stream",
     "text": [
      "The string is a palindrome\n"
     ]
    }
   ],
   "source": [
    "#8)Write a python program to check whether a given number is Palindrome or not using a while loop.\n",
    "string=input((\"Enter a string:\"))  \n",
    "if(string==string[::-1]):  \n",
    "      print(\"The string is a palindrome\")  \n",
    "else:  \n",
    "      print(\"The string is not a palindrome\")"
   ]
  },
  {
   "cell_type": "code",
   "execution_count": 32,
   "id": "b632a195-c500-4a0b-b63a-c8ee5b9699fa",
   "metadata": {},
   "outputs": [
    {
     "data": {
      "text/plain": [
       "[1,\n",
       " 3,\n",
       " 5,\n",
       " 7,\n",
       " 9,\n",
       " 11,\n",
       " 13,\n",
       " 15,\n",
       " 17,\n",
       " 19,\n",
       " 21,\n",
       " 23,\n",
       " 25,\n",
       " 27,\n",
       " 29,\n",
       " 31,\n",
       " 33,\n",
       " 35,\n",
       " 37,\n",
       " 39,\n",
       " 41,\n",
       " 43,\n",
       " 45,\n",
       " 47,\n",
       " 49,\n",
       " 51,\n",
       " 53,\n",
       " 55,\n",
       " 57,\n",
       " 59,\n",
       " 61,\n",
       " 63,\n",
       " 65,\n",
       " 67,\n",
       " 69,\n",
       " 71,\n",
       " 73,\n",
       " 75,\n",
       " 77,\n",
       " 79,\n",
       " 81,\n",
       " 83,\n",
       " 85,\n",
       " 87,\n",
       " 89,\n",
       " 91,\n",
       " 93,\n",
       " 95,\n",
       " 97,\n",
       " 99]"
      ]
     },
     "execution_count": 32,
     "metadata": {},
     "output_type": "execute_result"
    }
   ],
   "source": [
    "#7)Write a code to print odd numbers from 1 to 100 using list comprehension.\n",
    "nums = [num for num in range(1, 101)]\n",
    "[num for num in nums if num % 2 != 0]"
   ]
  },
  {
   "cell_type": "code",
   "execution_count": null,
   "id": "32718c33-3898-4798-a661-d574f0d7c8e9",
   "metadata": {},
   "outputs": [],
   "source": []
  }
 ],
 "metadata": {
  "kernelspec": {
   "display_name": "Python 3 (ipykernel)",
   "language": "python",
   "name": "python3"
  },
  "language_info": {
   "codemirror_mode": {
    "name": "ipython",
    "version": 3
   },
   "file_extension": ".py",
   "mimetype": "text/x-python",
   "name": "python",
   "nbconvert_exporter": "python",
   "pygments_lexer": "ipython3",
   "version": "3.10.8"
  }
 },
 "nbformat": 4,
 "nbformat_minor": 5
}
