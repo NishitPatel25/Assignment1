{
 "cells": [
  {
   "cell_type": "code",
   "execution_count": 1,
   "id": "2beda3e2-2c0e-4820-b53d-5a8d2fea7d61",
   "metadata": {},
   "outputs": [],
   "source": [
    "# 1)\n",
    "# ans)Guido van Rossum"
   ]
  },
  {
   "cell_type": "code",
   "execution_count": null,
   "id": "d154d16f-1bcf-4207-85c9-9055274f3e1f",
   "metadata": {},
   "outputs": [],
   "source": [
    "# 2)\n",
    "# ans)Python is an interpreted programming language, supporting object-oriented, structured, and functional programming."
   ]
  },
  {
   "cell_type": "code",
   "execution_count": null,
   "id": "c043a009-dab1-44c3-8586-76c8730513c4",
   "metadata": {},
   "outputs": [],
   "source": [
    "# 3)\n",
    "# ans)Yes, Python is a case−sensitive programming language. This means that it considers uppercase and lowercase letters differently"
   ]
  },
  {
   "cell_type": "code",
   "execution_count": null,
   "id": "bd341552-dc4c-42a0-8005-f46533d1e644",
   "metadata": {},
   "outputs": [],
   "source": [
    "# 4)\n",
    "# ans)The correct extension for a Python source code file is .py."
   ]
  },
  {
   "cell_type": "code",
   "execution_count": null,
   "id": "4e94e0ce-409c-4731-908a-21e7b5a98c16",
   "metadata": {},
   "outputs": [],
   "source": [
    "# 5)\n",
    "# ans)Python is an interpreted language, which means the source code of a Python program is converted into bytecode that is then\n",
    "# executed by the Python virtual machine."
   ]
  },
  {
   "cell_type": "code",
   "execution_count": null,
   "id": "60bf40f4-cb36-47c9-9c3c-c40bdb7039b4",
   "metadata": {},
   "outputs": [],
   "source": [
    "# 6)\n",
    "# ans)The following are blocks: a module, a function body, conditional statements, loops , classes."
   ]
  },
  {
   "cell_type": "code",
   "execution_count": null,
   "id": "0cfce994-8d86-4616-8f43-f006216c1f90",
   "metadata": {},
   "outputs": [],
   "source": [
    "# 7)\n",
    "# ans) # is used for single line comment"
   ]
  },
  {
   "cell_type": "code",
   "execution_count": 2,
   "id": "f0fed9c1-259a-40ef-af8d-a5a1d5a4ca2d",
   "metadata": {},
   "outputs": [],
   "source": [
    "# 8)\n",
    "# ans)We can use the sys. version method present in the sys (system) module to print the version of the Python interpreter \n",
    "# installed on the system."
   ]
  },
  {
   "cell_type": "code",
   "execution_count": 3,
   "id": "18d3fa28-e357-4e20-9c59-8e81afdbdf32",
   "metadata": {},
   "outputs": [],
   "source": [
    "# 9)\n",
    "# ans)Python supports the creation of anonymous functions at runtime, using a construct called lambda. "
   ]
  },
  {
   "cell_type": "code",
   "execution_count": 4,
   "id": "7e7dfe8b-21c5-41fd-a459-148784db71ff",
   "metadata": {},
   "outputs": [],
   "source": [
    "# 10)\n",
    "# ans) pip Install Packages"
   ]
  },
  {
   "cell_type": "code",
   "execution_count": null,
   "id": "ec2290e2-82b1-4217-a061-26c45211ce29",
   "metadata": {},
   "outputs": [],
   "source": [
    "# 11)\n",
    "# ans) print() , int() , len() , pow() , sum()"
   ]
  },
  {
   "cell_type": "code",
   "execution_count": null,
   "id": "636da53f-8779-40cb-978c-dfb04800d021",
   "metadata": {},
   "outputs": [],
   "source": [
    "# 12)\n",
    "# ans) An identifier can have a maximum length of 79 characters in Python."
   ]
  },
  {
   "cell_type": "code",
   "execution_count": null,
   "id": "9e9dfab7-9824-49c5-9abf-c0803179e4e1",
   "metadata": {},
   "outputs": [],
   "source": [
    "# 13)\n",
    "# ans) simple to use and understand, portability , productivity, free and open sourse"
   ]
  },
  {
   "cell_type": "code",
   "execution_count": null,
   "id": "28e65a64-0bb4-4595-8df7-8d422c5ef956",
   "metadata": {},
   "outputs": [],
   "source": [
    "# 14)\n",
    "# ans)Memory management in Python involves a private heap containing all Python objects and data structures."
   ]
  },
  {
   "cell_type": "code",
   "execution_count": null,
   "id": "eac4ebf5-e2f1-499a-b3e2-09f6d3ec262b",
   "metadata": {},
   "outputs": [],
   "source": [
    "# 15)\n",
    "# ans)The complete path of python.exe can be added by:\n",
    "\n",
    "#Right-clicking This PC and going to Properties.\n",
    "\n",
    "#Clicking on the Advanced system settings in the menu on the left.\n",
    "\n",
    "#Clicking on the Environment Variables button on the bottom right.\n",
    "\n",
    "#In the System variables section, selecting the Path variable and clicking on Edit. The next screen will show all the directories that are currently a part of the PATH variable.\n",
    "\n",
    "#Clicking on New and entering Python’s install directory.\n",
    "\n",
    "#Python can now be used directly from the command prompt without having to write its location. Try executing the command python --version; it will output the version of Python installed on your system."
   ]
  },
  {
   "cell_type": "code",
   "execution_count": null,
   "id": "a614e45d-adfd-4688-b0d6-d53b8e2c8bf7",
   "metadata": {},
   "outputs": [],
   "source": [
    "# 16)\n",
    "# ans)Indentation is important to Python, because it's how you determine scope. Scope is how Python knows what code belongs \n",
    "# to what part of the program."
   ]
  }
 ],
 "metadata": {
  "kernelspec": {
   "display_name": "Python 3 (ipykernel)",
   "language": "python",
   "name": "python3"
  },
  "language_info": {
   "codemirror_mode": {
    "name": "ipython",
    "version": 3
   },
   "file_extension": ".py",
   "mimetype": "text/x-python",
   "name": "python",
   "nbconvert_exporter": "python",
   "pygments_lexer": "ipython3",
   "version": "3.10.8"
  }
 },
 "nbformat": 4,
 "nbformat_minor": 5
}
