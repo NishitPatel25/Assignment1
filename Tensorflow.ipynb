{
 "cells": [
  {
   "cell_type": "code",
   "execution_count": null,
   "id": "9491bfb5",
   "metadata": {},
   "outputs": [],
   "source": [
    "1) Different Data Structures Used in TensorFlow\n",
    "\n",
    "TensorFlow, a popular open-source machine learning library, provides various data structures to facilitate the creation, \n",
    "manipulation, and training of machine learning models. Here are some key data structures:\n",
    "\n",
    "Tensors: The core data structure of TensorFlow, analogous to multi-dimensional arrays or matrices in other libraries like NumPy.\n",
    "         Tensors are immutable and can hold various types of data such as integers, floats, and strings.\n",
    "\n",
    "Example: tf.constant([1, 2, 3])\n",
    "Variables: Mutable data structures used to hold and update parameters in a machine learning model. Unlike tensors, variables \n",
    "           can be changed during training.\n",
    "\n",
    "Example: tf.Variable([1.0, 2.0, 3.0])\n",
    "Datasets: Used for input pipelines to efficiently load and preprocess data. The tf.data.Dataset API provides tools to create \n",
    "          and manipulate datasets.\n",
    "\n",
    "Example: tf.data.Dataset.from_tensor_slices([1, 2, 3])\n",
    "Placeholders: In TensorFlow 1.x, placeholders were used to feed data into the model during runtime. However, they are \n",
    "              deprecated in TensorFlow 2.x, where the tf.function and eager execution are preferred.\n",
    "\n",
    "Example: tf.placeholder(tf.float32, shape=[None, 2]) (TensorFlow 1.x)\n",
    "Queues: Used in TensorFlow 1.x for managing asynchronous data pipelines. Deprecated in TensorFlow 2.x in favor of the tf.data \n",
    "        API."
   ]
  },
  {
   "cell_type": "code",
   "execution_count": null,
   "id": "2a8d3057",
   "metadata": {},
   "outputs": [],
   "source": [
    "2)\n",
    "TensorFlow Constants: These are immutable tensors whose values cannot be changed once assigned. Constants are used for values \n",
    "    that remain fixed during the computation.\n",
    "\n",
    "TensorFlow Variables: These are mutable tensors whose values can be changed during the computation. Variables are primarily \n",
    "    used to hold and update parameters in machine learning models."
   ]
  },
  {
   "cell_type": "code",
   "execution_count": 1,
   "id": "5359936f",
   "metadata": {},
   "outputs": [
    {
     "name": "stdout",
     "output_type": "stream",
     "text": [
      "Matrix Addition:\n",
      " tf.Tensor(\n",
      "[[ 6  8]\n",
      " [10 12]], shape=(2, 2), dtype=int32)\n"
     ]
    }
   ],
   "source": [
    "import tensorflow as tf\n",
    "\n",
    "# Define two matrices\n",
    "matrix1 = tf.constant([[1, 2], [3, 4]])\n",
    "matrix2 = tf.constant([[5, 6], [7, 8]])\n",
    "\n",
    "# Add the matrices\n",
    "matrix_sum = tf.add(matrix1, matrix2)\n",
    "print(\"Matrix Addition:\\n\", matrix_sum)\n"
   ]
  },
  {
   "cell_type": "code",
   "execution_count": null,
   "id": "6844f267",
   "metadata": {},
   "outputs": [],
   "source": []
  },
  {
   "cell_type": "code",
   "execution_count": null,
   "id": "8a36a512",
   "metadata": {},
   "outputs": [],
   "source": [
    "PART-2"
   ]
  },
  {
   "cell_type": "code",
   "execution_count": 2,
   "id": "d3964c97",
   "metadata": {},
   "outputs": [
    {
     "name": "stdout",
     "output_type": "stream",
     "text": [
      "Matrix A:\n",
      " tf.Tensor(\n",
      "[[ 4.8770827e-01 -1.4136240e+00  1.6714063e+00]\n",
      " [ 1.1824137e-01  7.9592311e-01 -1.8063000e+00]\n",
      " [ 1.5517495e-03  6.4159763e-01  7.7831095e-01]], shape=(3, 3), dtype=float32)\n"
     ]
    }
   ],
   "source": [
    "import tensorflow as tf\n",
    "\n",
    "# Set dimensions\n",
    "x = 3\n",
    "\n",
    "A = tf.random.normal(shape=(x, x))\n",
    "print(\"Matrix A:\\n\", A)\n"
   ]
  },
  {
   "cell_type": "code",
   "execution_count": 3,
   "id": "ffe8ae57",
   "metadata": {},
   "outputs": [
    {
     "name": "stdout",
     "output_type": "stream",
     "text": [
      "Matrix B:\n",
      " tf.Tensor(\n",
      "[[-1.2909336e+00 -1.4959207e+00  1.4858916e+00]\n",
      " [ 1.2977252e+00 -1.4775197e-01  3.9496846e-02]\n",
      " [-8.6138934e-01  1.4460276e+00  7.1383105e-04]], shape=(3, 3), dtype=float32)\n"
     ]
    }
   ],
   "source": [
    "# Create matrix B with truncated normal values\n",
    "B = tf.random.truncated_normal(shape=(x, x))\n",
    "print(\"Matrix B:\\n\", B)"
   ]
  },
  {
   "cell_type": "code",
   "execution_count": 4,
   "id": "34f7dd12",
   "metadata": {},
   "outputs": [
    {
     "name": "stdout",
     "output_type": "stream",
     "text": [
      "Matrix C:\n",
      " tf.Tensor(\n",
      "[[-0.14856967  0.17565279]\n",
      " [ 0.17448376  0.05214239]], shape=(2, 2), dtype=float32)\n"
     ]
    }
   ],
   "source": [
    "# Create matrix C with normal distribution, mean 0, stddev 0.1\n",
    "C = tf.random.normal(shape=(2, 2), mean=0, stddev=0.1)\n",
    "print(\"Matrix C:\\n\", C)\n"
   ]
  },
  {
   "cell_type": "code",
   "execution_count": 7,
   "id": "fd2ca12a",
   "metadata": {},
   "outputs": [
    {
     "name": "stdout",
     "output_type": "stream",
     "text": [
      "Matrix D (A + B):\n",
      " tf.Tensor(\n",
      "[[-0.80322534 -2.9095447   3.1572978 ]\n",
      " [ 1.4159665   0.6481711  -1.7668031 ]\n",
      " [-0.8598376   2.0876253   0.7790248 ]], shape=(3, 3), dtype=float32)\n"
     ]
    }
   ],
   "source": [
    "# Perform matrix addition to get D\n",
    "D = tf.add(A, B)\n",
    "print(\"Matrix D (A + B):\\n\", D)"
   ]
  },
  {
   "cell_type": "code",
   "execution_count": 9,
   "id": "f0c39cd5",
   "metadata": {},
   "outputs": [
    {
     "name": "stdout",
     "output_type": "stream",
     "text": [
      "Matrix C:\n",
      " tf.Tensor(\n",
      "[[-0.13691895  0.10624775  0.02410238]\n",
      " [ 0.12320682  0.05607012 -0.00933483]], shape=(2, 3), dtype=float32)\n",
      "Matrix E (C * D):\n",
      " tf.Tensor(\n",
      "[[ 0.23969589  0.51755524 -0.6012364 ]\n",
      " [-0.01154299 -0.34162033  0.2826637 ]], shape=(2, 3), dtype=float32)\n"
     ]
    }
   ],
   "source": [
    "C = tf.random.normal(shape=(2, x), mean=0, stddev=0.1)\n",
    "print(\"Matrix C:\\n\", C)\n",
    "\n",
    "# Perform matrix multiplication to get E\n",
    "E = tf.matmul(C, D)\n",
    "print(\"Matrix E (C * D):\\n\", E)"
   ]
  },
  {
   "cell_type": "code",
   "execution_count": null,
   "id": "3d033322",
   "metadata": {},
   "outputs": [],
   "source": [
    "TASK-3"
   ]
  },
  {
   "cell_type": "code",
   "execution_count": 10,
   "id": "83d41182",
   "metadata": {},
   "outputs": [
    {
     "name": "stdout",
     "output_type": "stream",
     "text": [
      "Matrix F:\n",
      " [[0.6795862  0.48375654]\n",
      " [0.06231523 0.38037205]]\n",
      "Matrix G (Transpose of F):\n",
      " [[0.6795862  0.06231523]\n",
      " [0.48375654 0.38037205]]\n",
      "Matrix H (Element-wise Exponential of F):\n",
      " [[1.9730611 1.6221566]\n",
      " [1.0642978 1.4628288]]\n",
      "Matrix I (Concatenation of F and G horizontally):\n",
      " [[0.6795862  0.48375654 0.6795862  0.06231523]\n",
      " [0.06231523 0.38037205 0.48375654 0.38037205]]\n",
      "Matrix J (Concatenation of F and H vertically):\n",
      " [[0.6795862  0.48375654]\n",
      " [0.06231523 0.38037205]\n",
      " [1.9730611  1.6221566 ]\n",
      " [1.0642978  1.4628288 ]]\n"
     ]
    }
   ],
   "source": [
    "import tensorflow as tf\n",
    "\n",
    "# 1) Create matrix F with random uniform values\n",
    "F = tf.random.uniform(shape=(2, 2))\n",
    "print(\"Matrix F:\\n\", F.numpy())\n",
    "\n",
    "# 2) Calculate the transpose of F\n",
    "G = tf.transpose(F)\n",
    "print(\"Matrix G (Transpose of F):\\n\", G.numpy())\n",
    "\n",
    "# 3) Calculate the element-wise exponential of F\n",
    "H = tf.exp(F)\n",
    "print(\"Matrix H (Element-wise Exponential of F):\\n\", H.numpy())\n",
    "\n",
    "# 4) Concatenate F and G horizontally to create I\n",
    "I = tf.concat([F, G], axis=1)\n",
    "print(\"Matrix I (Concatenation of F and G horizontally):\\n\", I.numpy())\n",
    "\n",
    "# 5) Concatenate F and H vertically to create J\n",
    "J = tf.concat([F, H], axis=0)\n",
    "print(\"Matrix J (Concatenation of F and H vertically):\\n\", J.numpy())\n"
   ]
  },
  {
   "cell_type": "code",
   "execution_count": null,
   "id": "e4b06052",
   "metadata": {},
   "outputs": [],
   "source": []
  }
 ],
 "metadata": {
  "kernelspec": {
   "display_name": "Python 3 (ipykernel)",
   "language": "python",
   "name": "python3"
  },
  "language_info": {
   "codemirror_mode": {
    "name": "ipython",
    "version": 3
   },
   "file_extension": ".py",
   "mimetype": "text/x-python",
   "name": "python",
   "nbconvert_exporter": "python",
   "pygments_lexer": "ipython3",
   "version": "3.11.1"
  }
 },
 "nbformat": 4,
 "nbformat_minor": 5
}
